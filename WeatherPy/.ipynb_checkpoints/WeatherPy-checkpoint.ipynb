{
 "cells": [
  {
   "cell_type": "markdown",
   "metadata": {},
   "source": [
    "# WeatherPy\n",
    "----\n",
    "\n",
    "#### Note\n",
    "* Instructions have been included for each segment. You do not have to follow them exactly, but they are included to help you think through the steps."
   ]
  },
  {
   "cell_type": "code",
   "execution_count": 1,
   "metadata": {
    "scrolled": true
   },
   "outputs": [],
   "source": [
    "# Dependencies and Setup\n",
    "import matplotlib.pyplot as plt\n",
    "import pandas as pd\n",
    "import numpy as np\n",
    "import requests\n",
    "import time\n",
    "import json\n",
    "import os\n",
    "from scipy import stats\n",
    "from scipy.stats import linregress\n",
    "\n",
    "# Import API key\n",
    "from api_keys import weather_api_key\n",
    "\n",
    "# Incorporated citipy to determine city based on latitude and longitude\n",
    "from citipy import citipy\n",
    "\n",
    "# Output File (CSV)\n",
    "output_data_file = \"output_data/cities.csv\"\n",
    "\n",
    "# Range of latitudes and longitudes\n",
    "lat_range = (-90, 90)\n",
    "lng_range = (-180, 180)"
   ]
  },
  {
   "cell_type": "markdown",
   "metadata": {},
   "source": [
    "## Generate Cities List"
   ]
  },
  {
   "cell_type": "code",
   "execution_count": 2,
   "metadata": {},
   "outputs": [
    {
     "data": {
      "text/plain": [
       "648"
      ]
     },
     "execution_count": 2,
     "metadata": {},
     "output_type": "execute_result"
    }
   ],
   "source": [
    "# List for holding lat_lngs and cities\n",
    "lat_lngs = []\n",
    "cities = []\n",
    "\n",
    "# Create a set of random lat and lng combinations\n",
    "lats = np.random.uniform(low=-90.000, high=90.000, size=1500)\n",
    "lngs = np.random.uniform(low=-180.000, high=180.000, size=1500)\n",
    "lat_lngs = zip(lats, lngs)\n",
    "\n",
    "# Identify nearest city for each lat, lng combination\n",
    "for lat_lng in lat_lngs:\n",
    "    city = citipy.nearest_city(lat_lng[0], lat_lng[1]).city_name\n",
    "    \n",
    "    # If the city is unique, then add it to a our cities list\n",
    "    if city not in cities:\n",
    "        cities.append(city)\n",
    "\n",
    "# Print the city count to confirm sufficient count\n",
    "len(cities)"
   ]
  },
  {
   "cell_type": "code",
   "execution_count": 3,
   "metadata": {},
   "outputs": [
    {
     "data": {
      "text/plain": [
       "'http://api.openweathermap.org/data/2.5/weather?appid=86e091696d04e4636555f97b1ff31889&units=metric&q='"
      ]
     },
     "execution_count": 3,
     "metadata": {},
     "output_type": "execute_result"
    }
   ],
   "source": [
    "# Save config information.\n",
    "url = \"http://api.openweathermap.org/data/2.5/weather?\"\n",
    "units = \"metric\"\n",
    "\n",
    "# Build partial query URL\n",
    "query_url = f\"{url}appid={weather_api_key}&units={units}&q=\"\n",
    "query_url"
   ]
  },
  {
   "cell_type": "code",
   "execution_count": null,
   "metadata": {},
   "outputs": [
    {
     "name": "stdout",
     "output_type": "stream",
     "text": [
      "Record 1 | City Name = bluff\n",
      "Record 2 | City Name = khatanga\n",
      "No city found.\n",
      "Record 3 | City Name = busselton\n",
      "Record 4 | City Name = namibe\n",
      "Record 5 | City Name = selty\n",
      "Record 6 | City Name = georgetown\n",
      "Record 7 | City Name = kawhia\n",
      "Record 8 | City Name = new norfolk\n",
      "No city found.\n",
      "Record 9 | City Name = hobart\n",
      "Record 10 | City Name = guerrero negro\n",
      "Record 11 | City Name = butaritari\n",
      "Record 12 | City Name = lebu\n",
      "Record 13 | City Name = thompson\n",
      "Record 14 | City Name = kapaa\n",
      "Record 15 | City Name = rikitea\n",
      "Record 16 | City Name = ushuaia\n",
      "No city found.\n",
      "Record 17 | City Name = toora-khem\n",
      "Record 18 | City Name = nioro\n",
      "Record 19 | City Name = provideniya\n",
      "Record 20 | City Name = longyearbyen\n",
      "Record 21 | City Name = carutapera\n",
      "Record 22 | City Name = tuktoyaktuk\n",
      "Record 23 | City Name = bengkulu\n",
      "Record 24 | City Name = mount isa\n",
      "Record 25 | City Name = ussuriysk\n",
      "No city found.\n",
      "Record 26 | City Name = chokurdakh\n",
      "Record 27 | City Name = viedma\n",
      "Record 28 | City Name = atuona\n",
      "Record 29 | City Name = ribeira grande\n",
      "Record 30 | City Name = charters towers\n",
      "Record 31 | City Name = vardo\n",
      "Record 32 | City Name = nikolskoye\n",
      "Record 33 | City Name = mangrol\n",
      "Record 34 | City Name = hilo\n",
      "Record 35 | City Name = kaitangata\n",
      "Record 36 | City Name = isangel\n",
      "Record 37 | City Name = portland\n",
      "Record 38 | City Name = dikson\n",
      "Record 39 | City Name = bam\n",
      "Record 40 | City Name = omsukchan\n",
      "Record 41 | City Name = yulara\n",
      "Record 42 | City Name = dzhida\n",
      "Record 43 | City Name = jamestown\n",
      "Record 44 | City Name = arraial do cabo\n",
      "No city found.\n",
      "No city found.\n",
      "Record 45 | City Name = bambous virieux\n",
      "Record 46 | City Name = vaini\n",
      "Record 47 | City Name = port blair\n",
      "Record 48 | City Name = ulladulla\n",
      "Record 49 | City Name = samarai\n",
      "Record 50 | City Name = mys shmidta\n",
      "Record 51 | City Name = rafaela\n",
      "Record 52 | City Name = verkhnyaya sysert\n",
      "Record 53 | City Name = barrow\n",
      "Record 54 | City Name = colatina\n",
      "Record 55 | City Name = tiarei\n",
      "Record 56 | City Name = albany\n",
      "Record 57 | City Name = cape town\n",
      "No city found.\n",
      "Record 58 | City Name = biak\n",
      "Record 59 | City Name = teya\n",
      "No city found.\n",
      "Record 60 | City Name = bredasdorp\n",
      "Record 61 | City Name = tawang\n",
      "Record 62 | City Name = taltal\n",
      "Record 63 | City Name = port hardy\n",
      "Record 64 | City Name = aranda de duero\n",
      "Record 65 | City Name = bethel\n",
      "Record 66 | City Name = san cristobal\n",
      "Record 67 | City Name = sao joao da barra\n",
      "Record 68 | City Name = chuy\n",
      "Record 69 | City Name = punta arenas\n",
      "Record 70 | City Name = manzhouli\n",
      "Record 71 | City Name = westport\n",
      "Record 72 | City Name = port alfred\n",
      "Record 73 | City Name = hisor\n",
      "Record 74 | City Name = szamosszeg\n",
      "Record 75 | City Name = turukhansk\n",
      "Record 76 | City Name = hermanus\n",
      "Record 77 | City Name = joshimath\n",
      "Record 78 | City Name = cherskiy\n",
      "Record 79 | City Name = rio grande\n",
      "Record 80 | City Name = talnakh\n",
      "No city found.\n",
      "Record 81 | City Name = norman wells\n",
      "Record 82 | City Name = tilichiki\n",
      "Record 83 | City Name = mataura\n",
      "Record 84 | City Name = buhe\n",
      "Record 85 | City Name = tautira\n",
      "Record 86 | City Name = puerto ayora\n",
      "Record 87 | City Name = castro\n",
      "Record 88 | City Name = divnogorsk\n",
      "Record 89 | City Name = vostok\n",
      "No city found.\n",
      "Record 90 | City Name = touros\n",
      "Record 91 | City Name = esperance\n",
      "Record 92 | City Name = wakkanai\n",
      "Record 93 | City Name = iqaluit\n",
      "No city found.\n",
      "No city found.\n",
      "Record 94 | City Name = requena\n",
      "Record 95 | City Name = moba\n",
      "Record 96 | City Name = deulgaon raja\n",
      "Record 97 | City Name = tamworth\n",
      "Record 98 | City Name = mama\n",
      "Record 99 | City Name = lavrentiya\n",
      "No city found.\n",
      "Record 100 | City Name = airai\n",
      "Record 101 | City Name = mae sai\n",
      "Record 102 | City Name = lovozero\n",
      "Record 103 | City Name = carnarvon\n",
      "Record 104 | City Name = maragogi\n",
      "Record 105 | City Name = east london\n",
      "Record 106 | City Name = vitina\n",
      "Record 107 | City Name = tuatapere\n",
      "Record 108 | City Name = tocopilla\n",
      "Record 109 | City Name = fortuna\n",
      "Record 110 | City Name = knysna\n",
      "Record 111 | City Name = bryan\n",
      "Record 112 | City Name = saint-pierre\n",
      "Record 113 | City Name = asau\n",
      "Record 114 | City Name = hithadhoo\n",
      "Record 115 | City Name = cuajinicuilapa\n",
      "Record 116 | City Name = yellowknife\n",
      "Record 117 | City Name = zanesville\n",
      "Record 118 | City Name = wewak\n",
      "Record 119 | City Name = puerto colombia\n",
      "Record 120 | City Name = tasiilaq\n",
      "Record 121 | City Name = biltine\n",
      "Record 122 | City Name = nabire\n",
      "No city found.\n",
      "Record 123 | City Name = hualmay\n",
      "No city found.\n",
      "Record 124 | City Name = plouzane\n",
      "Record 125 | City Name = vila velha\n",
      "Record 126 | City Name = frutal\n",
      "Record 127 | City Name = mar del plata\n",
      "Record 128 | City Name = urumqi\n",
      "Record 129 | City Name = svetlyy\n",
      "Record 130 | City Name = margate\n",
      "No city found.\n",
      "Record 131 | City Name = ostrovnoy\n",
      "No city found.\n",
      "Record 132 | City Name = lagoa\n",
      "No city found.\n",
      "Record 133 | City Name = dzhebariki-khaya\n",
      "Record 134 | City Name = severo-kurilsk\n",
      "Record 135 | City Name = kjopsvik\n",
      "Record 136 | City Name = charlestown\n",
      "Record 137 | City Name = lincoln\n",
      "Record 138 | City Name = bilibino\n",
      "Record 139 | City Name = itoman\n",
      "Record 140 | City Name = tamandare\n",
      "Record 141 | City Name = souillac\n",
      "Record 142 | City Name = cabo san lucas\n",
      "Record 143 | City Name = governador valadares\n",
      "Record 144 | City Name = roros\n",
      "Record 145 | City Name = grand river south east\n",
      "Record 146 | City Name = vao\n",
      "Record 147 | City Name = yuxia\n",
      "Record 148 | City Name = grindavik\n",
      "Record 149 | City Name = pyaozerskiy\n",
      "Record 150 | City Name = garden city\n",
      "Record 151 | City Name = saint-philippe\n",
      "Record 152 | City Name = nantucket\n",
      "Record 153 | City Name = sisimiut\n",
      "Record 154 | City Name = ibirataia\n",
      "No city found.\n",
      "Record 155 | City Name = saskylakh\n",
      "Record 156 | City Name = champerico\n",
      "No city found.\n",
      "Record 157 | City Name = kununurra\n",
      "Record 158 | City Name = narsaq\n",
      "Record 159 | City Name = casian\n",
      "Record 160 | City Name = belgrade\n",
      "Record 161 | City Name = kavieng\n",
      "Record 162 | City Name = kodinar\n",
      "Record 163 | City Name = lata\n",
      "Record 164 | City Name = ambulu\n",
      "Record 165 | City Name = manado\n",
      "Record 166 | City Name = mareeba\n",
      "Record 167 | City Name = shima\n",
      "Record 168 | City Name = jutai\n",
      "Record 169 | City Name = flinders\n",
      "Record 170 | City Name = sitka\n",
      "Record 171 | City Name = cap malheureux\n",
      "Record 172 | City Name = valparaiso\n",
      "Record 173 | City Name = tigil\n",
      "Record 174 | City Name = iquitos\n",
      "Record 175 | City Name = najran\n",
      "Record 176 | City Name = sorland\n",
      "Record 177 | City Name = betioky\n",
      "Record 178 | City Name = nanortalik\n",
      "Record 179 | City Name = bom jesus\n",
      "Record 180 | City Name = alta floresta\n",
      "Record 181 | City Name = dongsheng\n",
      "No city found.\n",
      "Record 182 | City Name = nanhai\n",
      "Record 183 | City Name = napier\n",
      "Record 184 | City Name = cervo\n",
      "Record 185 | City Name = hull\n",
      "Record 186 | City Name = hami\n",
      "Record 187 | City Name = avarua\n",
      "Record 188 | City Name = ponta do sol\n",
      "Record 189 | City Name = evensk\n",
      "Record 190 | City Name = codrington\n",
      "Record 191 | City Name = dicabisagan\n",
      "No city found.\n",
      "Record 192 | City Name = ahipara\n",
      "Record 193 | City Name = paka\n",
      "Record 194 | City Name = hojai\n",
      "Record 195 | City Name = calama\n",
      "Record 196 | City Name = onega\n",
      "Record 197 | City Name = husavik\n",
      "Record 198 | City Name = bud\n",
      "No city found.\n",
      "Record 199 | City Name = alcudia\n",
      "Record 200 | City Name = port hedland\n",
      "Record 201 | City Name = olafsvik\n",
      "Record 202 | City Name = bodden town\n",
      "Record 203 | City Name = cidreira\n",
      "No city found.\n",
      "Record 204 | City Name = imbituba\n",
      "No city found.\n",
      "Record 205 | City Name = methoni\n",
      "Record 206 | City Name = zhigansk\n",
      "Record 207 | City Name = jinka\n",
      "Record 208 | City Name = naze\n",
      "Record 209 | City Name = nizwa\n",
      "Record 210 | City Name = alexandria\n",
      "No city found.\n",
      "Record 211 | City Name = fairbanks\n",
      "Record 212 | City Name = nara\n",
      "Record 213 | City Name = pacific grove\n",
      "Record 214 | City Name = dubrovka\n",
      "Record 215 | City Name = dezhou\n",
      "Record 216 | City Name = rexburg\n",
      "No city found.\n",
      "Record 217 | City Name = oga\n",
      "Record 218 | City Name = kiunga\n",
      "No city found.\n",
      "Record 219 | City Name = petatlan\n",
      "No city found.\n",
      "Record 220 | City Name = lunenburg\n",
      "Record 221 | City Name = meulaboh\n",
      "Record 222 | City Name = san vicente\n",
      "Record 223 | City Name = laguna\n",
      "No city found.\n",
      "Record 224 | City Name = linxia\n",
      "Record 225 | City Name = morondava\n",
      "Record 226 | City Name = pilar\n",
      "Record 227 | City Name = yar-sale\n",
      "Record 228 | City Name = rawson\n",
      "Record 229 | City Name = kodiak\n",
      "Record 230 | City Name = vaitape\n"
     ]
    },
    {
     "name": "stdout",
     "output_type": "stream",
     "text": [
      "Record 231 | City Name = pangnirtung\n",
      "Record 232 | City Name = hovd\n",
      "Record 233 | City Name = clyde river\n",
      "Record 234 | City Name = kilindoni\n",
      "No city found.\n",
      "Record 235 | City Name = sangueya\n",
      "Record 236 | City Name = chippewa falls\n",
      "Record 237 | City Name = mehriz\n",
      "Record 238 | City Name = kandrian\n",
      "Record 239 | City Name = uberaba\n",
      "Record 240 | City Name = itarema\n",
      "Record 241 | City Name = nome\n",
      "Record 242 | City Name = port elizabeth\n",
      "Record 243 | City Name = pangody\n",
      "No city found.\n",
      "Record 244 | City Name = poum\n",
      "Record 245 | City Name = paamiut\n",
      "Record 246 | City Name = nioki\n",
      "Record 247 | City Name = korsakov\n",
      "No city found.\n",
      "Record 248 | City Name = hustopece\n",
      "Record 249 | City Name = sechura\n",
      "Record 250 | City Name = vila franca do campo\n",
      "Record 251 | City Name = zalesovo\n",
      "Record 252 | City Name = atasu\n",
      "Record 253 | City Name = kahului\n",
      "Record 254 | City Name = mahebourg\n",
      "No city found.\n",
      "No city found.\n",
      "Record 255 | City Name = raga\n",
      "No city found.\n",
      "Record 256 | City Name = gilgit\n",
      "No city found.\n",
      "Record 257 | City Name = lorengau\n",
      "Record 258 | City Name = marystown\n",
      "Record 259 | City Name = faanui\n"
     ]
    }
   ],
   "source": [
    "# set lists for the dataframe\n",
    "city_list = []\n",
    "city_number = []\n",
    "country = []\n",
    "cloudiness = []\n",
    "dates = []\n",
    "humidity = []\n",
    "lat = []\n",
    "lon = []\n",
    "temp = []\n",
    "max_temp = []\n",
    "wind_speed = []\n",
    "country = []\n",
    "\n",
    "# set initial count quantities for organization\n",
    "counter = 0\n",
    "\n",
    "# loop for creating dataframe columns\n",
    "for city in cities:\n",
    "    try:\n",
    "        response = requests.get(query_url + city.replace(\" \",\"&\")).json()\n",
    "        city_number.append(response['id'])\n",
    "        country.append(response['sys']['country'])\n",
    "        lat.append(response['coord']['lat'])\n",
    "        lon.append(response['coord']['lon'])\n",
    "        dates.append(response['dt'])\n",
    "        temp.append(response['main']['temp'])\n",
    "        max_temp.append(response['main']['temp_max'])\n",
    "        humidity.append(response['main']['humidity'])\n",
    "        cloudiness.append(response['clouds']['all'])\n",
    "        wind_speed.append(response['wind']['speed'])\n",
    "        \n",
    "        if counter > 1000:\n",
    "            counter = 1\n",
    "            city_list.append(city)\n",
    "        else:\n",
    "            counter += 1\n",
    "            city_list.append(city)\n",
    "        print(f\"Record {counter} | City Name = {city}\")\n",
    "        \n",
    "    except Exception:\n",
    "        print(\"No city found.\")\n",
    "        \n",
    "print(\"-------------------Data Retrival Job Complete-------------------\")"
   ]
  },
  {
   "cell_type": "markdown",
   "metadata": {},
   "source": [
    "### Perform API Calls\n",
    "* Perform a weather check on each city using a series of successive API calls.\n",
    "* Include a print log of each city as it'sbeing processed (with the city number and city name).\n"
   ]
  },
  {
   "cell_type": "markdown",
   "metadata": {},
   "source": [
    "### Convert Raw Data to DataFrame\n",
    "* Export the city data into a .csv.\n",
    "* Display the DataFrame\n"
   ]
  },
  {
   "cell_type": "code",
   "execution_count": null,
   "metadata": {},
   "outputs": [],
   "source": [
    "# create a data frame from cities, lat, and temp\n",
    "\n",
    "weather_dict = {\n",
    "    \n",
    "    \"city\": city_list,\n",
    "    \"country\": country, \n",
    "    \"city id\": city_number,\n",
    "    \"lat\": lat,\n",
    "    \"lon\": lon,\n",
    "    \"temp\": temp,\n",
    "    \"temp_max\": max_temp,\n",
    "    \"humidity\": humidity,\n",
    "    \"cloudiness\": cloudiness,\n",
    "    \"wind speed\": wind_speed,\n",
    "\n",
    "}\n",
    "city_weather_data = pd.DataFrame(weather_dict)\n",
    "city_weather_data"
   ]
  },
  {
   "cell_type": "code",
   "execution_count": null,
   "metadata": {},
   "outputs": [],
   "source": [
    "city_weather_data.to_csv('city_weather_data.csv')"
   ]
  },
  {
   "cell_type": "markdown",
   "metadata": {},
   "source": [
    "### Plotting the Data\n",
    "* Use proper labeling of the plots using plot titles (including date of analysis) and axes labels.\n",
    "* Save the plotted figures as .pngs."
   ]
  },
  {
   "cell_type": "markdown",
   "metadata": {},
   "source": [
    "#### Latitude vs. Temperature Plot"
   ]
  },
  {
   "cell_type": "code",
   "execution_count": null,
   "metadata": {
    "scrolled": true
   },
   "outputs": [],
   "source": [
    "#Temperature (F) vs. Latitude\n",
    "lat_values = weather_data['lat']\n",
    "temp_values = weather_data['temp']\n",
    "plt.scatter(lat_values,temp_values)\n",
    "plt.title('Temperature (F) vs. Latitude')\n",
    "plt.xlabel('Latitude')\n",
    "plt.ylabel('Temperature')\n",
    "plt.show()"
   ]
  },
  {
   "cell_type": "markdown",
   "metadata": {},
   "source": [
    "#### Latitude vs. Humidity Plot"
   ]
  },
  {
   "cell_type": "code",
   "execution_count": null,
   "metadata": {},
   "outputs": [],
   "source": [
    "# Humidity (%) vs. Latitude\n",
    "lat_values = weather_data['lat']\n",
    "humidity_values = weather_data['humidity']\n",
    "plt.scatter(lat_values,humidity_values)\n",
    "plt.title('Humidity (%) vs. Latitude')\n",
    "plt.xlabel('Latitude')\n",
    "plt.ylabel('Humidity')\n",
    "plt.show()"
   ]
  },
  {
   "cell_type": "markdown",
   "metadata": {},
   "source": [
    "#### Latitude vs. Cloudiness Plot"
   ]
  },
  {
   "cell_type": "code",
   "execution_count": null,
   "metadata": {
    "scrolled": true
   },
   "outputs": [],
   "source": [
    "# Cloudiness (%) vs. Latitude\n",
    "lat_values = weather_data['lat']\n",
    "cloudiness_values = weather_data['cloudiness']\n",
    "plt.scatter(lat_values,cloudiness_values)\n",
    "plt.title('Cloudiness (%) vs. Latitude')\n",
    "plt.xlabel('Latitude')\n",
    "plt.ylabel('Cloudiness')\n",
    "plt.show()"
   ]
  },
  {
   "cell_type": "markdown",
   "metadata": {},
   "source": [
    "#### Latitude vs. Wind Speed Plot"
   ]
  },
  {
   "cell_type": "code",
   "execution_count": null,
   "metadata": {},
   "outputs": [],
   "source": [
    "#Wind Speed (mph) vs. Latitude\n",
    "lat_values = weather_data['lat']\n",
    "windspeed_values = weather_data['wind speed']\n",
    "plt.scatter(lat_values,windspeed_values)\n",
    "plt.title('Wind Speed (mph) vs. Latitude')\n",
    "plt.xlabel('Latitude')\n",
    "plt.ylabel('Wind Speed (mph)')\n",
    "plt.show()"
   ]
  },
  {
   "cell_type": "markdown",
   "metadata": {},
   "source": [
    "## Linear Regression"
   ]
  },
  {
   "cell_type": "code",
   "execution_count": null,
   "metadata": {},
   "outputs": [],
   "source": [
    "# OPTIONAL: Create a function to create Linear Regression plots\n",
    "(slope, intercept, rvalue, pvalue, stderr) = stats.linregress(lat_values, windspeed_values)\n",
    "\n",
    "# Get regression values\n",
    "regress_values = lat_values * slope + intercept\n",
    "print(regress_values)"
   ]
  },
  {
   "cell_type": "code",
   "execution_count": null,
   "metadata": {},
   "outputs": [],
   "source": [
    "# Create line equation string\n",
    "line_eq = \"y = \" + str(round(slope,2)) + \"x +\" + str(round(intercept,2))\n",
    "print(line_eq)"
   ]
  },
  {
   "cell_type": "code",
   "execution_count": null,
   "metadata": {},
   "outputs": [],
   "source": [
    "# Create Northern and Southern Hemisphere DataFrames"
   ]
  },
  {
   "cell_type": "code",
   "execution_count": null,
   "metadata": {},
   "outputs": [],
   "source": [
    "# Setting Northern Hemisphere Conditions for DataFrame\n",
    "northern_hem = weather_data.lat >= 0\n",
    "northern_hem.head(20)"
   ]
  },
  {
   "cell_type": "code",
   "execution_count": null,
   "metadata": {},
   "outputs": [],
   "source": [
    "# Nothern Hemisphere DataFrame\n",
    "northern_hemisphere_df = weather_data[northern_hem]\n",
    "northern_hemisphere_df"
   ]
  },
  {
   "cell_type": "code",
   "execution_count": null,
   "metadata": {},
   "outputs": [],
   "source": [
    "# Setting Southern Hemisphere Conditions for DataFrame\n",
    "southern_hem = weather_data.lat <= 0\n",
    "southern_hem.head(10)"
   ]
  },
  {
   "cell_type": "code",
   "execution_count": null,
   "metadata": {},
   "outputs": [],
   "source": [
    "# Southern Hemisphere DataFrame\n",
    "southern_hemisphere_df = weather_data[southern_hem]\n",
    "southern_hemisphere_df "
   ]
  },
  {
   "cell_type": "markdown",
   "metadata": {},
   "source": [
    "####  Northern Hemisphere - Max Temp vs. Latitude Linear Regression"
   ]
  },
  {
   "cell_type": "code",
   "execution_count": null,
   "metadata": {},
   "outputs": [],
   "source": [
    "# Northern Hemisphere - Max Temp vs. Latitude Linear Regression\n",
    "northern_lat_values = northern_hemisphere_df['lat']\n",
    "northern_max_temp_values = northern_hemisphere_df['temp_max']\n",
    "plt.scatter(northern_lat_values,northern_max_temp_values)\n",
    "plt.title('Northern Hemisphere - Max Temp vs. Latitude')\n",
    "plt.xlabel('Latitude')\n",
    "plt.ylabel('Max Temp')\n",
    "plt.show()"
   ]
  },
  {
   "cell_type": "code",
   "execution_count": null,
   "metadata": {},
   "outputs": [],
   "source": [
    "# Perform a linear regression on max temp vs. latitude\n",
    "(slope, intercept, rvalue, pvalue, stderr) = stats.linregress(northern_lat_values, northern_max_temp_values)\n",
    "\n",
    "# Get regression values\n",
    "regress_values = northern_lat_values * slope + intercept\n",
    "print(regress_values)"
   ]
  },
  {
   "cell_type": "code",
   "execution_count": null,
   "metadata": {},
   "outputs": [],
   "source": [
    "# Create line equation string\n",
    "line_eq = \"y = \" + str(round(slope,2)) + \"x +\" + str(round(intercept,2))\n",
    "print(line_eq)"
   ]
  },
  {
   "cell_type": "code",
   "execution_count": null,
   "metadata": {},
   "outputs": [],
   "source": [
    "# Northern Hemisphere - Max Temp vs. Latitude Linear Regression\n",
    "# Create Plot\n",
    "plt.scatter(northern_lat_values,northern_max_temp_values)\n",
    "plt.plot(northern_lat_values,regress_values,\"r-\")\n",
    "\n",
    "# Label plot and annotate the line equation\n",
    "plt.xlabel('Latitude')\n",
    "plt.ylabel('Max Temp')\n",
    "plt.title('Northern Hemisphere - Max Temp vs. Latitude Linear Regression')\n",
    "\n",
    "plt.annotate(line_eq,(20,15),fontsize=15,color=\"red\")\n",
    "\n",
    "# Print r square value\n",
    "print(f\"The r-squared is: {rvalue**2}\")\n",
    "\n",
    "# Show plot\n",
    "plt.show()"
   ]
  },
  {
   "cell_type": "markdown",
   "metadata": {},
   "source": [
    "####  Southern Hemisphere - Max Temp vs. Latitude Linear Regression"
   ]
  },
  {
   "cell_type": "code",
   "execution_count": null,
   "metadata": {},
   "outputs": [],
   "source": [
    "# Southern Hemisphere - Max Temp vs. Latitude \n",
    "southern_lat_values = southern_hemisphere_df['lat']\n",
    "southern_max_temp_values = southern_hemisphere_df['temp_max']\n",
    "plt.scatter(southern_lat_values,southern_max_temp_values)\n",
    "plt.title('Southern Hemisphere - Max Temp vs. Latitude')\n",
    "plt.xlabel('Latitude')\n",
    "plt.ylabel('Max Temp')\n",
    "plt.show()"
   ]
  },
  {
   "cell_type": "code",
   "execution_count": null,
   "metadata": {},
   "outputs": [],
   "source": [
    "# Perform a linear regression on max temp vs. latitude\n",
    "(slope, intercept, rvalue, pvalue, stderr) = stats.linregress(southern_lat_values, southern_max_temp_values)\n",
    "\n",
    "# Get regression values\n",
    "regress_values = southern_lat_values * slope + intercept\n",
    "print(regress_values)"
   ]
  },
  {
   "cell_type": "code",
   "execution_count": null,
   "metadata": {},
   "outputs": [],
   "source": [
    "# Create line equation string\n",
    "line_eq = \"y = \" + str(round(slope,2)) + \"x +\" + str(round(intercept,2))\n",
    "print(line_eq)"
   ]
  },
  {
   "cell_type": "code",
   "execution_count": null,
   "metadata": {},
   "outputs": [],
   "source": [
    "# Southern Hemisphere - Max Temp vs. Latitude Linear Regression\n",
    "# Create Plot\n",
    "plt.scatter(southern_lat_values,southern_max_temp_values)\n",
    "plt.plot(southern_lat_values,regress_values,\"r-\")\n",
    "\n",
    "# Label plot and annotate the line equation\n",
    "plt.xlabel('Latitude')\n",
    "plt.ylabel('Max Temp')\n",
    "plt.title('Southern Hemisphere - Max Temp vs. Latitude Linear Regression')\n",
    "plt.annotate(line_eq,(20,15),fontsize=15,color=\"red\")\n",
    "\n",
    "# Print r square value\n",
    "print(f\"The r-squared is: {rvalue**2}\")\n",
    "\n",
    "# Show plot\n",
    "plt.show()"
   ]
  },
  {
   "cell_type": "markdown",
   "metadata": {},
   "source": [
    "####  Northern Hemisphere - Humidity (%) vs. Latitude Linear Regression"
   ]
  },
  {
   "cell_type": "code",
   "execution_count": null,
   "metadata": {},
   "outputs": [],
   "source": [
    "# Northern Hemisphere - Humidity (%) vs. Latitude\n",
    "northern_lat_values = northern_hemisphere_df['lat']\n",
    "northern_humidity_values = northern_hemisphere_df['humidity']\n",
    "plt.scatter(northern_lat_values,northern_humidity_values)\n",
    "plt.title('Northern Hemisphere - Humidity (%) vs. Latitude')\n",
    "plt.xlabel('Latitude')\n",
    "plt.ylabel('Humidity (%)')\n",
    "plt.show()"
   ]
  },
  {
   "cell_type": "code",
   "execution_count": null,
   "metadata": {},
   "outputs": [],
   "source": [
    "# Perform a linear regression on max temp vs. latitude\n",
    "(slope, intercept, rvalue, pvalue, stderr) = stats.linregress(northern_lat_values, northern_humidity_values)\n",
    "\n",
    "# Get regression values\n",
    "regress_values = northern_lat_values * slope + intercept\n",
    "print(regress_values)"
   ]
  },
  {
   "cell_type": "code",
   "execution_count": null,
   "metadata": {},
   "outputs": [],
   "source": [
    "# Create line equation string\n",
    "line_eq = \"y = \" + str(round(slope,2)) + \"x +\" + str(round(intercept,2))\n",
    "print(line_eq)"
   ]
  },
  {
   "cell_type": "code",
   "execution_count": null,
   "metadata": {},
   "outputs": [],
   "source": [
    "# Northern Hemisphere - Humidity (%) vs. Latitude Linear Regression\n",
    "# Create Plot\n",
    "plt.scatter(northern_lat_values,northern_humidity_values)\n",
    "plt.plot(northern_lat_values,regress_values,\"r-\")\n",
    "\n",
    "# Label plot and annotate the line equation\n",
    "plt.xlabel('Latitude')\n",
    "plt.ylabel('Humidity (%)')\n",
    "plt.title('Northern Hemisphere - Humidity (%) vs. Latitude Linear Regression')\n",
    "plt.annotate(line_eq,(20,15),fontsize=15,color=\"red\")\n",
    "\n",
    "# Print r square value\n",
    "print(f\"The r-squared is: {rvalue**2}\")\n",
    "\n",
    "# Show plot\n",
    "plt.show()"
   ]
  },
  {
   "cell_type": "markdown",
   "metadata": {},
   "source": [
    "####  Southern Hemisphere - Humidity (%) vs. Latitude Linear Regression"
   ]
  },
  {
   "cell_type": "code",
   "execution_count": null,
   "metadata": {},
   "outputs": [],
   "source": [
    "# Southern Hemisphere - Humidity (%) vs. Latitude\n",
    "southern_lat_values = southern_hemisphere_df['lat']\n",
    "southern_humidity_values = southern_hemisphere_df['humidity']\n",
    "plt.scatter(southern_lat_values,southern_humidity_values)\n",
    "plt.title('Southern Hemisphere - Humidity (%) vs. Latitude')\n",
    "plt.xlabel('Latitude')\n",
    "plt.ylabel('Humidity (%)')\n",
    "plt.show()"
   ]
  },
  {
   "cell_type": "code",
   "execution_count": null,
   "metadata": {},
   "outputs": [],
   "source": [
    "# Perform a linear regression on max temp vs. latitude\n",
    "(slope, intercept, rvalue, pvalue, stderr) = stats.linregress(southern_lat_values, southern_humidity_values)\n",
    "\n",
    "# Get regression values\n",
    "regress_values = southern_lat_values * slope + intercept\n",
    "print(regress_values)"
   ]
  },
  {
   "cell_type": "code",
   "execution_count": null,
   "metadata": {},
   "outputs": [],
   "source": [
    "# Create line equation string\n",
    "line_eq = \"y = \" + str(round(slope,2)) + \"x +\" + str(round(intercept,2))\n",
    "print(line_eq)"
   ]
  },
  {
   "cell_type": "code",
   "execution_count": null,
   "metadata": {},
   "outputs": [],
   "source": [
    "# Southern Hemisphere - Humidity (%) vs. Latitude Linear Regression\n",
    "# Create Plot\n",
    "plt.scatter(southern_lat_values,southern_humidity_values)\n",
    "plt.plot(southern_lat_values,regress_values,\"r-\")\n",
    "\n",
    "# Label plot and annotate the line equation\n",
    "plt.xlabel('Latitude')\n",
    "plt.ylabel('Humidity (%)')\n",
    "plt.title('Southern Hemisphere - Humidity (%) vs. Latitude Linear Regression')\n",
    "plt.annotate(line_eq,(20,15),fontsize=15,color=\"red\")\n",
    "\n",
    "# Print r square value\n",
    "print(f\"The r-squared is: {rvalue**2}\")\n",
    "\n",
    "# Show plot\n",
    "plt.show()"
   ]
  },
  {
   "cell_type": "markdown",
   "metadata": {},
   "source": [
    "####  Northern Hemisphere - Cloudiness (%) vs. Latitude Linear Regression"
   ]
  },
  {
   "cell_type": "code",
   "execution_count": null,
   "metadata": {},
   "outputs": [],
   "source": [
    "# Northern Hemisphere - Cloudiness (%) vs. Latitude\n",
    "northern_lat_values = northern_hemisphere_df['lat']\n",
    "northern_cloudiness_values = northern_hemisphere_df['cloudiness']\n",
    "plt.scatter(northern_lat_values,northern_cloudiness_values)\n",
    "plt.title('Northern Hemisphere - Cloudiness (%) vs. Latitude')\n",
    "plt.xlabel('Latitude')\n",
    "plt.ylabel('Cloudiness (%)')\n",
    "plt.show()"
   ]
  },
  {
   "cell_type": "code",
   "execution_count": null,
   "metadata": {},
   "outputs": [],
   "source": [
    "# Perform a linear regression on max temp vs. latitude\n",
    "(slope, intercept, rvalue, pvalue, stderr) = stats.linregress(northern_lat_values, northern_cloudiness_values)\n",
    "\n",
    "# Get regression values\n",
    "regress_values = northern_lat_values * slope + intercept\n",
    "print(regress_values)"
   ]
  },
  {
   "cell_type": "code",
   "execution_count": null,
   "metadata": {},
   "outputs": [],
   "source": [
    "# Create line equation string\n",
    "line_eq = \"y = \" + str(round(slope,2)) + \"x +\" + str(round(intercept,2))\n",
    "print(line_eq)"
   ]
  },
  {
   "cell_type": "code",
   "execution_count": null,
   "metadata": {},
   "outputs": [],
   "source": [
    "# Northern Hemisphere - Cloudiness (%) vs. Latitude Linear Regression\n",
    "# Create Plot\n",
    "plt.scatter(northern_lat_values,northern_cloudiness_values)\n",
    "plt.plot(northern_lat_values,regress_values,\"r-\")\n",
    "\n",
    "# Label plot and annotate the line equation\n",
    "plt.xlabel('Latitude')\n",
    "plt.ylabel('Humidity (%)')\n",
    "plt.title('Northern Hemisphere - Cloudiness (%) vs. Latitude Linear Regression')\n",
    "plt.annotate(line_eq,(20,15),fontsize=15,color=\"red\")\n",
    "\n",
    "# Print r square value\n",
    "print(f\"The r-squared is: {rvalue**2}\")\n",
    "\n",
    "# Show plot\n",
    "plt.show()"
   ]
  },
  {
   "cell_type": "markdown",
   "metadata": {},
   "source": [
    "####  Southern Hemisphere - Cloudiness (%) vs. Latitude Linear Regression"
   ]
  },
  {
   "cell_type": "code",
   "execution_count": null,
   "metadata": {},
   "outputs": [],
   "source": [
    "# Southern Hemisphere - Cloudiness (%) vs. Latitude\n",
    "southern_lat_values = southern_hemisphere_df['lat']\n",
    "southern_cloudiness_values = southern_hemisphere_df['cloudiness']\n",
    "plt.scatter(southern_lat_values,southern_cloudiness_values)\n",
    "plt.title('Southern Hemisphere - Cloudiness (%) vs. Latitude')\n",
    "plt.xlabel('Latitude')\n",
    "plt.ylabel('Cloudiness (%)')\n",
    "plt.show()"
   ]
  },
  {
   "cell_type": "code",
   "execution_count": null,
   "metadata": {},
   "outputs": [],
   "source": [
    "# Perform a linear regression on max temp vs. latitude\n",
    "(slope, intercept, rvalue, pvalue, stderr) = stats.linregress(southern_lat_values, southern_cloudiness_values)\n",
    "\n",
    "# Get regression values\n",
    "regress_values = southern_lat_values * slope + intercept\n",
    "print(regress_values)"
   ]
  },
  {
   "cell_type": "code",
   "execution_count": null,
   "metadata": {},
   "outputs": [],
   "source": [
    "# Create line equation string\n",
    "line_eq = \"y = \" + str(round(slope,2)) + \"x +\" + str(round(intercept,2))\n",
    "print(line_eq)"
   ]
  },
  {
   "cell_type": "code",
   "execution_count": null,
   "metadata": {},
   "outputs": [],
   "source": [
    "# Southern Hemisphere - Cloudiness (%) vs. Latitude Linear Regression\n",
    "# Create Plot\n",
    "plt.scatter(southern_lat_values,southern_cloudiness_values)\n",
    "plt.plot(southern_lat_values,regress_values,\"r-\")\n",
    "\n",
    "# Label plot and annotate the line equation\n",
    "plt.xlabel('Latitude')\n",
    "plt.ylabel('Cloudiness (%)')\n",
    "plt.title('Southern Hemisphere - Cloudiness (%) vs. Latitude Linear Regression')\n",
    "plt.annotate(line_eq,(20,15),fontsize=15,color=\"red\")\n",
    "\n",
    "# Print r square value\n",
    "print(f\"The r-squared is: {rvalue**2}\")\n",
    "\n",
    "# Show plot\n",
    "plt.show()"
   ]
  },
  {
   "cell_type": "markdown",
   "metadata": {},
   "source": [
    "####  Northern Hemisphere - Wind Speed (mph) vs. Latitude Linear Regression"
   ]
  },
  {
   "cell_type": "code",
   "execution_count": null,
   "metadata": {},
   "outputs": [],
   "source": [
    "# Northern Hemisphere - Wind Speed (mph) vs. Latitude\n",
    "northern_lat_values = northern_hemisphere_df['lat']\n",
    "northern_windspeed_values = northern_hemisphere_df['wind speed']\n",
    "plt.scatter(northern_lat_values,northern_windspeed_values)\n",
    "plt.title('Northern Hemisphere - Wind Speed (mph) vs. Latitude')\n",
    "plt.xlabel('Latitude')\n",
    "plt.ylabel('Wind Speed (mph)')\n",
    "plt.show()"
   ]
  },
  {
   "cell_type": "code",
   "execution_count": null,
   "metadata": {},
   "outputs": [],
   "source": [
    "# Perform a linear regression on max temp vs. latitude\n",
    "(slope, intercept, rvalue, pvalue, stderr) = stats.linregress(northern_lat_values, northern_windspeed_values)\n",
    "\n",
    "# Get regression values\n",
    "regress_values = northern_lat_values * slope + intercept\n",
    "print(regress_values)"
   ]
  },
  {
   "cell_type": "code",
   "execution_count": null,
   "metadata": {},
   "outputs": [],
   "source": [
    "# Create line equation string\n",
    "line_eq = \"y = \" + str(round(slope,2)) + \"x +\" + str(round(intercept,2))\n",
    "print(line_eq)"
   ]
  },
  {
   "cell_type": "code",
   "execution_count": null,
   "metadata": {},
   "outputs": [],
   "source": [
    "# Northern Hemisphere - Wind Speed (mph) vs. Latitude Linear Regression\n",
    "# Create Plot\n",
    "plt.scatter(northern_lat_values,northern_windspeed_values)\n",
    "plt.plot(northern_lat_values,regress_values,\"r-\")\n",
    "\n",
    "# Label plot and annotate the line equation\n",
    "plt.xlabel('Latitude')\n",
    "plt.ylabel('Wind Speed (mph)')\n",
    "plt.title('Northern Hemisphere - Wind Speed (mph) vs. Latitude Linear Regression')\n",
    "plt.annotate(line_eq,(20,15),fontsize=15,color=\"red\")\n",
    "\n",
    "# Print r square value\n",
    "print(f\"The r-squared is: {rvalue**2}\")\n",
    "\n",
    "# Show plot\n",
    "plt.show()"
   ]
  },
  {
   "cell_type": "markdown",
   "metadata": {},
   "source": [
    "####  Southern Hemisphere - Wind Speed (mph) vs. Latitude Linear Regression"
   ]
  },
  {
   "cell_type": "code",
   "execution_count": null,
   "metadata": {},
   "outputs": [],
   "source": [
    "# Southern Hemisphere - Wind Speed (mph) vs. Latitude \n",
    "southern_lat_values = southern_hemisphere_df['lat']\n",
    "southern_windspeed_values = southern_hemisphere_df['wind speed']\n",
    "plt.scatter(southern_lat_values,southern_windspeed_values)\n",
    "plt.title('Southern Hemisphere - Wind Speed (mph) vs. Latitude')\n",
    "plt.xlabel('Latitude')\n",
    "plt.ylabel('Wind Speed (mph)')\n",
    "plt.show()"
   ]
  },
  {
   "cell_type": "code",
   "execution_count": null,
   "metadata": {},
   "outputs": [],
   "source": [
    "# Perform a linear regression on max temp vs. latitude\n",
    "(slope, intercept, rvalue, pvalue, stderr) = stats.linregress(southern_lat_values, southern_windspeed_values)\n",
    "\n",
    "# Get regression values\n",
    "regress_values = southern_lat_values * slope + intercept\n",
    "print(regress_values)"
   ]
  },
  {
   "cell_type": "code",
   "execution_count": null,
   "metadata": {},
   "outputs": [],
   "source": [
    "# Create line equation string\n",
    "line_eq = \"y = \" + str(round(slope,2)) + \"x +\" + str(round(intercept,2))\n",
    "print(line_eq)"
   ]
  },
  {
   "cell_type": "code",
   "execution_count": null,
   "metadata": {},
   "outputs": [],
   "source": [
    "# Southern Hemisphere - Wind Speed (mph) vs. Latitude Linear Regression\n",
    "# Create Plot\n",
    "plt.scatter(southern_lat_values,southern_windspeed_values)\n",
    "plt.plot(southern_lat_values,regress_values,\"r-\")\n",
    "\n",
    "# Label plot and annotate the line equation\n",
    "plt.xlabel('Latitude')\n",
    "plt.ylabel('Wind Speed (mph)')\n",
    "plt.title('Southern Hemisphere - Wind Speed (mph) vs. Latitude Linear Regression')\n",
    "plt.annotate(line_eq,(20,15),fontsize=15,color=\"red\")\n",
    "\n",
    "# Print r square value\n",
    "print(f\"The r-squared is: {rvalue**2}\")\n",
    "\n",
    "# Show plot\n",
    "plt.show()"
   ]
  },
  {
   "cell_type": "code",
   "execution_count": null,
   "metadata": {},
   "outputs": [],
   "source": []
  }
 ],
 "metadata": {
  "anaconda-cloud": {},
  "kernel_info": {
   "name": "python3"
  },
  "kernelspec": {
   "display_name": "Python 3",
   "language": "python",
   "name": "python3"
  },
  "language_info": {
   "codemirror_mode": {
    "name": "ipython",
    "version": 3
   },
   "file_extension": ".py",
   "mimetype": "text/x-python",
   "name": "python",
   "nbconvert_exporter": "python",
   "pygments_lexer": "ipython3",
   "version": "3.7.4"
  },
  "latex_envs": {
   "LaTeX_envs_menu_present": true,
   "autoclose": false,
   "autocomplete": true,
   "bibliofile": "biblio.bib",
   "cite_by": "apalike",
   "current_citInitial": 1,
   "eqLabelWithNumbers": true,
   "eqNumInitial": 1,
   "hotkeys": {
    "equation": "Ctrl-E",
    "itemize": "Ctrl-I"
   },
   "labels_anchors": false,
   "latex_user_defs": false,
   "report_style_numbering": false,
   "user_envs_cfg": false
  },
  "nteract": {
   "version": "0.12.3"
  }
 },
 "nbformat": 4,
 "nbformat_minor": 2
}
