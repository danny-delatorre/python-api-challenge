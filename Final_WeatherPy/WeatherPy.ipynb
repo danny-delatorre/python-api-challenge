{
 "cells": [
  {
   "cell_type": "markdown",
   "metadata": {},
   "source": [
    "# WeatherPy\n",
    "----\n",
    "\n",
    "#### Note\n",
    "* Instructions have been included for each segment. You do not have to follow them exactly, but they are included to help you think through the steps."
   ]
  },
  {
   "cell_type": "code",
   "execution_count": 1,
   "metadata": {
    "scrolled": true
   },
   "outputs": [],
   "source": [
    "# Dependencies and Setup\n",
    "import matplotlib.pyplot as plt\n",
    "import pandas as pd\n",
    "import numpy as np\n",
    "import requests\n",
    "import time\n",
    "import json\n",
    "import os\n",
    "from scipy import stats\n",
    "from scipy.stats import linregress\n",
    "\n",
    "# Import API key\n",
    "from api_keys import weather_api_key\n",
    "\n",
    "# Incorporated citipy to determine city based on latitude and longitude\n",
    "from citipy import citipy\n",
    "\n",
    "# Output File (CSV)\n",
    "output_data_file = \"output_data/cities.csv\"\n",
    "\n",
    "# Range of latitudes and longitudes\n",
    "lat_range = (-90, 90)\n",
    "lng_range = (-180, 180)"
   ]
  },
  {
   "cell_type": "markdown",
   "metadata": {},
   "source": [
    "## Generate Cities List"
   ]
  },
  {
   "cell_type": "code",
   "execution_count": 2,
   "metadata": {},
   "outputs": [
    {
     "data": {
      "text/plain": [
       "618"
      ]
     },
     "execution_count": 2,
     "metadata": {},
     "output_type": "execute_result"
    }
   ],
   "source": [
    "# List for holding lat_lngs and cities\n",
    "lat_lngs = []\n",
    "cities = []\n",
    "\n",
    "# Create a set of random lat and lng combinations\n",
    "lats = np.random.uniform(low=-90.000, high=90.000, size=1500)\n",
    "lngs = np.random.uniform(low=-180.000, high=180.000, size=1500)\n",
    "lat_lngs = zip(lats, lngs)\n",
    "\n",
    "# Identify nearest city for each lat, lng combination\n",
    "for lat_lng in lat_lngs:\n",
    "    city = citipy.nearest_city(lat_lng[0], lat_lng[1]).city_name\n",
    "    \n",
    "    # If the city is unique, then add it to a our cities list\n",
    "    if city not in cities:\n",
    "        cities.append(city)\n",
    "\n",
    "# Print the city count to confirm sufficient count\n",
    "len(cities)"
   ]
  },
  {
   "cell_type": "code",
   "execution_count": 3,
   "metadata": {},
   "outputs": [
    {
     "data": {
      "text/plain": [
       "'http://api.openweathermap.org/data/2.5/weather?appid=86e091696d04e4636555f97b1ff31889&units=metric&q='"
      ]
     },
     "execution_count": 3,
     "metadata": {},
     "output_type": "execute_result"
    }
   ],
   "source": [
    "# Save config information.\n",
    "url = \"http://api.openweathermap.org/data/2.5/weather?\"\n",
    "units = \"metric\"\n",
    "\n",
    "# Build partial query URL\n",
    "query_url = f\"{url}appid={weather_api_key}&units={units}&q=\"\n",
    "query_url"
   ]
  },
  {
   "cell_type": "code",
   "execution_count": 4,
   "metadata": {},
   "outputs": [
    {
     "name": "stdout",
     "output_type": "stream",
     "text": [
      "Record 1 | City Name = santa fe\n",
      "Record 2 | City Name = egvekinot\n",
      "Record 3 | City Name = kodiak\n",
      "Record 4 | City Name = manosque\n",
      "Record 5 | City Name = ancud\n",
      "No city found.\n",
      "Record 6 | City Name = saskylakh\n",
      "Record 7 | City Name = sola\n",
      "Record 8 | City Name = ulladulla\n",
      "Record 9 | City Name = roma\n",
      "Record 10 | City Name = mataura\n",
      "Record 11 | City Name = ushuaia\n",
      "Record 12 | City Name = mar del plata\n",
      "Record 13 | City Name = uchiza\n",
      "Record 14 | City Name = cape town\n",
      "Record 15 | City Name = kotelnich\n",
      "Record 16 | City Name = cherskiy\n",
      "Record 17 | City Name = dikson\n",
      "Record 18 | City Name = inhambane\n",
      "Record 19 | City Name = lewistown\n",
      "Record 20 | City Name = esperance\n",
      "Record 21 | City Name = arraial do cabo\n",
      "Record 22 | City Name = hobart\n",
      "Record 23 | City Name = touros\n",
      "Record 24 | City Name = qaanaaq\n",
      "Record 25 | City Name = upernavik\n",
      "Record 26 | City Name = punta arenas\n",
      "Record 27 | City Name = hami\n",
      "Record 28 | City Name = albany\n",
      "Record 29 | City Name = busselton\n",
      "Record 30 | City Name = tuatapere\n",
      "Record 31 | City Name = puerto ayora\n",
      "Record 32 | City Name = kieta\n",
      "Record 33 | City Name = maldonado\n",
      "No city found.\n",
      "Record 34 | City Name = santa vitoria do palmar\n",
      "No city found.\n",
      "Record 35 | City Name = yellowknife\n",
      "Record 36 | City Name = rivadavia\n",
      "Record 37 | City Name = faanui\n",
      "No city found.\n",
      "Record 38 | City Name = bradford\n",
      "Record 39 | City Name = new norfolk\n",
      "Record 40 | City Name = karasburg\n",
      "Record 41 | City Name = geraldton\n",
      "No city found.\n",
      "Record 42 | City Name = atuona\n",
      "Record 43 | City Name = novouzensk\n",
      "Record 44 | City Name = georgetown\n",
      "Record 45 | City Name = guerrero negro\n",
      "Record 46 | City Name = port alfred\n",
      "Record 47 | City Name = beloha\n",
      "Record 48 | City Name = bethel\n",
      "Record 49 | City Name = elk city\n",
      "Record 50 | City Name = vaini\n",
      "Record 51 | City Name = rikitea\n",
      "No city found.\n",
      "Record 52 | City Name = klaksvik\n",
      "Record 53 | City Name = ahuimanu\n",
      "Record 54 | City Name = labuhan\n",
      "Record 55 | City Name = viedma\n",
      "Record 56 | City Name = boende\n",
      "Record 57 | City Name = belmonte\n",
      "Record 58 | City Name = oudtshoorn\n",
      "Record 59 | City Name = kapaa\n",
      "Record 60 | City Name = provideniya\n",
      "No city found.\n",
      "No city found.\n",
      "Record 61 | City Name = hasaki\n",
      "Record 62 | City Name = baiyin\n",
      "Record 63 | City Name = ust-uda\n",
      "Record 64 | City Name = krasnoselkup\n",
      "Record 65 | City Name = zadonsk\n",
      "Record 66 | City Name = grand river south east\n",
      "Record 67 | City Name = falciu\n",
      "Record 68 | City Name = tuktoyaktuk\n",
      "Record 69 | City Name = coxim\n",
      "Record 70 | City Name = namibe\n",
      "Record 71 | City Name = lata\n",
      "Record 72 | City Name = khatanga\n",
      "No city found.\n",
      "Record 73 | City Name = jamestown\n",
      "Record 74 | City Name = boyabat\n",
      "Record 75 | City Name = saint-augustin\n",
      "Record 76 | City Name = bathsheba\n",
      "Record 77 | City Name = tasiilaq\n",
      "Record 78 | City Name = santa rosa\n",
      "Record 79 | City Name = nizhniy odes\n",
      "Record 80 | City Name = hithadhoo\n",
      "Record 81 | City Name = springbok\n",
      "Record 82 | City Name = nybro\n",
      "Record 83 | City Name = chokurdakh\n",
      "Record 84 | City Name = ribeira grande\n",
      "Record 85 | City Name = puerto escondido\n",
      "Record 86 | City Name = ilulissat\n",
      "No city found.\n",
      "Record 87 | City Name = bonavista\n",
      "Record 88 | City Name = tiksi\n",
      "No city found.\n",
      "Record 89 | City Name = sorong\n",
      "Record 90 | City Name = belyy yar\n",
      "Record 91 | City Name = yabassi\n",
      "Record 92 | City Name = stockholm\n",
      "No city found.\n",
      "Record 93 | City Name = cidreira\n",
      "Record 94 | City Name = vila franca do campo\n",
      "Record 95 | City Name = nanortalik\n",
      "Record 96 | City Name = coquimbo\n",
      "Record 97 | City Name = thompson\n",
      "Record 98 | City Name = cockburn town\n",
      "Record 99 | City Name = shenzhen\n",
      "Record 100 | City Name = bredasdorp\n",
      "Record 101 | City Name = bluff\n",
      "Record 102 | City Name = lanzhou\n",
      "Record 103 | City Name = marsabit\n",
      "Record 104 | City Name = flin flon\n",
      "Record 105 | City Name = nagato\n",
      "Record 106 | City Name = osinki\n",
      "Record 107 | City Name = ballina\n",
      "Record 108 | City Name = thinadhoo\n",
      "Record 109 | City Name = salalah\n",
      "Record 110 | City Name = clinton\n",
      "Record 111 | City Name = wajid\n",
      "Record 112 | City Name = souillac\n",
      "Record 113 | City Name = yar-sale\n",
      "Record 114 | City Name = ponta do sol\n",
      "Record 115 | City Name = tamiahua\n",
      "Record 116 | City Name = aklavik\n",
      "Record 117 | City Name = hermanus\n",
      "Record 118 | City Name = barguzin\n",
      "Record 119 | City Name = portland\n",
      "Record 120 | City Name = saint-joseph\n",
      "Record 121 | City Name = senno\n",
      "Record 122 | City Name = luderitz\n",
      "Record 123 | City Name = airai\n",
      "Record 124 | City Name = najran\n",
      "Record 125 | City Name = kluang\n",
      "Record 126 | City Name = ritchie\n",
      "Record 127 | City Name = severo-kurilsk\n",
      "Record 128 | City Name = berlevag\n",
      "Record 129 | City Name = srandakan\n",
      "No city found.\n",
      "Record 130 | City Name = bon air\n",
      "Record 131 | City Name = fonte boa\n",
      "Record 132 | City Name = fortuna\n",
      "Record 133 | City Name = houlton\n",
      "Record 134 | City Name = castro\n",
      "Record 135 | City Name = nikolskoye\n",
      "Record 136 | City Name = wainwright\n",
      "Record 137 | City Name = san jose\n",
      "Record 138 | City Name = saldanha\n",
      "Record 139 | City Name = hilo\n",
      "Record 140 | City Name = pocone\n",
      "Record 141 | City Name = east london\n",
      "No city found.\n",
      "Record 142 | City Name = mahebourg\n",
      "Record 143 | City Name = vychegodskiy\n",
      "Record 144 | City Name = makakilo city\n",
      "Record 145 | City Name = ndende\n",
      "Record 146 | City Name = lompoc\n",
      "Record 147 | City Name = san juan\n",
      "Record 148 | City Name = homer\n",
      "Record 149 | City Name = cocora\n",
      "Record 150 | City Name = marawi\n",
      "Record 151 | City Name = yashkino\n",
      "Record 152 | City Name = dibrugarh\n",
      "Record 153 | City Name = honiara\n",
      "Record 154 | City Name = hit\n",
      "Record 155 | City Name = antalaha\n",
      "Record 156 | City Name = hamilton\n",
      "No city found.\n",
      "Record 157 | City Name = san vicente\n",
      "Record 158 | City Name = dakar\n",
      "Record 159 | City Name = shimoda\n",
      "Record 160 | City Name = chuy\n",
      "Record 161 | City Name = portmore\n",
      "Record 162 | City Name = klerksdorp\n",
      "Record 163 | City Name = marystown\n",
      "Record 164 | City Name = zaltan\n",
      "Record 165 | City Name = ponta delgada\n",
      "Record 166 | City Name = samarai\n",
      "Record 167 | City Name = clyde river\n",
      "Record 168 | City Name = payo\n",
      "Record 169 | City Name = mildura\n",
      "Record 170 | City Name = kolondieba\n",
      "Record 171 | City Name = stabat\n",
      "Record 172 | City Name = butaritari\n",
      "Record 173 | City Name = pevek\n",
      "Record 174 | City Name = torres\n",
      "Record 175 | City Name = ola\n",
      "Record 176 | City Name = port elizabeth\n",
      "No city found.\n",
      "Record 177 | City Name = sao miguel do araguaia\n",
      "Record 178 | City Name = mayo\n",
      "Record 179 | City Name = batticaloa\n",
      "Record 180 | City Name = irbil\n",
      "Record 181 | City Name = havre-saint-pierre\n",
      "Record 182 | City Name = crepy-en-valois\n",
      "Record 183 | City Name = anadyr\n",
      "Record 184 | City Name = zhezkazgan\n",
      "Record 185 | City Name = kamenka\n",
      "Record 186 | City Name = balkhash\n",
      "No city found.\n",
      "Record 187 | City Name = padang\n",
      "Record 188 | City Name = burgthann\n",
      "No city found.\n",
      "Record 189 | City Name = platonovka\n",
      "Record 190 | City Name = asau\n",
      "No city found.\n",
      "No city found.\n",
      "Record 191 | City Name = isangel\n",
      "Record 192 | City Name = saint-philippe\n",
      "Record 193 | City Name = constantine\n",
      "Record 194 | City Name = warrington\n",
      "No city found.\n",
      "Record 195 | City Name = stromness\n",
      "Record 196 | City Name = avarua\n",
      "No city found.\n",
      "Record 197 | City Name = agartala\n",
      "Record 198 | City Name = davidson\n",
      "Record 199 | City Name = bengkulu\n",
      "Record 200 | City Name = northam\n",
      "Record 201 | City Name = victoria\n",
      "Record 202 | City Name = palma di montechiaro\n",
      "Record 203 | City Name = barrow\n",
      "Record 204 | City Name = junin\n",
      "Record 205 | City Name = kuala terengganu\n",
      "No city found.\n",
      "Record 206 | City Name = codrington\n",
      "Record 207 | City Name = ode\n",
      "No city found.\n",
      "Record 208 | City Name = sabzevar\n",
      "Record 209 | City Name = lebu\n",
      "Record 210 | City Name = multai\n",
      "Record 211 | City Name = benghazi\n",
      "Record 212 | City Name = faro\n",
      "No city found.\n",
      "Record 213 | City Name = alice springs\n",
      "Record 214 | City Name = ucluelet\n",
      "Record 215 | City Name = komsomolskiy\n",
      "Record 216 | City Name = yerbogachen\n",
      "Record 217 | City Name = hirara\n",
      "Record 218 | City Name = nome\n",
      "Record 219 | City Name = saint-pierre\n",
      "Record 220 | City Name = ust-karsk\n",
      "Record 221 | City Name = taos\n",
      "No city found.\n",
      "No city found.\n",
      "Record 222 | City Name = babino\n",
      "Record 223 | City Name = seddon\n",
      "Record 224 | City Name = mount isa\n",
      "Record 225 | City Name = aragarcas\n",
      "Record 226 | City Name = iqaluit\n",
      "Record 227 | City Name = burnie\n",
      "Record 228 | City Name = hambantota\n",
      "Record 229 | City Name = araouane\n",
      "Record 230 | City Name = taltal\n",
      "No city found.\n"
     ]
    },
    {
     "name": "stdout",
     "output_type": "stream",
     "text": [
      "Record 231 | City Name = dawson creek\n",
      "Record 232 | City Name = noumea\n",
      "Record 233 | City Name = lishu\n",
      "No city found.\n",
      "Record 234 | City Name = bereda\n",
      "Record 235 | City Name = ati\n",
      "Record 236 | City Name = longyearbyen\n",
      "Record 237 | City Name = hongjiang\n",
      "Record 238 | City Name = bambous virieux\n",
      "Record 239 | City Name = talnakh\n",
      "Record 240 | City Name = kahului\n",
      "Record 241 | City Name = acapulco\n",
      "Record 242 | City Name = flinders\n",
      "Record 243 | City Name = cartagena\n",
      "Record 244 | City Name = bam\n",
      "Record 245 | City Name = cabo san lucas\n",
      "Record 246 | City Name = greymouth\n",
      "Record 247 | City Name = havoysund\n",
      "Record 248 | City Name = doka\n",
      "Record 249 | City Name = moose factory\n",
      "Record 250 | City Name = whitianga\n",
      "Record 251 | City Name = pisco\n",
      "Record 252 | City Name = dingle\n",
      "Record 253 | City Name = praya\n",
      "Record 254 | City Name = taoudenni\n",
      "Record 255 | City Name = mizdah\n",
      "Record 256 | City Name = kavieng\n",
      "Record 257 | City Name = tanout\n",
      "Record 258 | City Name = norman wells\n",
      "Record 259 | City Name = sisimiut\n",
      "Record 260 | City Name = griffith\n",
      "Record 261 | City Name = vanimo\n",
      "Record 262 | City Name = creston\n",
      "Record 263 | City Name = pauini\n",
      "Record 264 | City Name = mwinilunga\n",
      "Record 265 | City Name = ushumun\n",
      "Record 266 | City Name = auki\n",
      "Record 267 | City Name = rio gallegos\n",
      "Record 268 | City Name = puerto pinasco\n",
      "Record 269 | City Name = rorvik\n",
      "Record 270 | City Name = moree\n",
      "Record 271 | City Name = nichinan\n",
      "Record 272 | City Name = guymon\n",
      "Record 273 | City Name = tura\n",
      "Record 274 | City Name = chokwe\n",
      "Record 275 | City Name = maragogi\n",
      "Record 276 | City Name = tevaitoa\n",
      "Record 277 | City Name = sistranda\n",
      "Record 278 | City Name = yumen\n",
      "Record 279 | City Name = ternate\n",
      "Record 280 | City Name = kralendijk\n",
      "Record 281 | City Name = dakoro\n",
      "Record 282 | City Name = shingu\n",
      "Record 283 | City Name = liuhe\n",
      "Record 284 | City Name = belle glade\n",
      "Record 285 | City Name = kaitangata\n",
      "Record 286 | City Name = lavrentiya\n",
      "Record 287 | City Name = catuday\n",
      "Record 288 | City Name = launceston\n",
      "Record 289 | City Name = genhe\n",
      "Record 290 | City Name = moron\n",
      "Record 291 | City Name = kismayo\n",
      "No city found.\n",
      "Record 292 | City Name = lagos\n",
      "Record 293 | City Name = constitucion\n",
      "Record 294 | City Name = axim\n",
      "Record 295 | City Name = acarau\n",
      "Record 296 | City Name = torbay\n",
      "Record 297 | City Name = ondjiva\n",
      "No city found.\n",
      "Record 298 | City Name = okato\n",
      "Record 299 | City Name = beringovskiy\n",
      "Record 300 | City Name = gigmoto\n",
      "Record 301 | City Name = takhtamygda\n",
      "Record 302 | City Name = barbate\n",
      "Record 303 | City Name = roseburg\n",
      "Record 304 | City Name = kudahuvadhoo\n",
      "Record 305 | City Name = buchanan\n",
      "Record 306 | City Name = kaseda\n",
      "Record 307 | City Name = stornoway\n",
      "Record 308 | City Name = kundiawa\n",
      "Record 309 | City Name = mangai\n",
      "Record 310 | City Name = paraiso\n",
      "Record 311 | City Name = san policarpo\n",
      "Record 312 | City Name = novopavlovka\n",
      "Record 313 | City Name = vestmannaeyjar\n",
      "Record 314 | City Name = rock springs\n",
      "Record 315 | City Name = port hedland\n",
      "Record 316 | City Name = davila\n",
      "Record 317 | City Name = cedar city\n",
      "Record 318 | City Name = kushima\n",
      "Record 319 | City Name = sembabule\n",
      "Record 320 | City Name = praia da vitoria\n",
      "Record 321 | City Name = okha\n",
      "Record 322 | City Name = puerto del rosario\n",
      "Record 323 | City Name = baker city\n",
      "Record 324 | City Name = tanabe\n",
      "Record 325 | City Name = kozelsk\n",
      "Record 326 | City Name = svetlogorsk\n",
      "Record 327 | City Name = hofn\n",
      "Record 328 | City Name = japura\n",
      "Record 329 | City Name = marzuq\n",
      "No city found.\n",
      "Record 330 | City Name = hecun\n",
      "Record 331 | City Name = emerald\n",
      "Record 332 | City Name = voronovytsya\n",
      "Record 333 | City Name = buala\n",
      "Record 334 | City Name = mangla\n",
      "Record 335 | City Name = lakatoro\n",
      "Record 336 | City Name = zhigansk\n",
      "No city found.\n",
      "Record 337 | City Name = stettler\n",
      "Record 338 | City Name = carnarvon\n",
      "Record 339 | City Name = puerto morazan\n",
      "Record 340 | City Name = palembang\n",
      "Record 341 | City Name = gladstone\n",
      "No city found.\n",
      "Record 342 | City Name = sitka\n",
      "Record 343 | City Name = yuci\n",
      "No city found.\n",
      "Record 344 | City Name = porosozero\n",
      "Record 345 | City Name = mareeba\n",
      "No city found.\n",
      "Record 346 | City Name = bell ville\n",
      "Record 347 | City Name = bara\n",
      "Record 348 | City Name = kutum\n",
      "Record 349 | City Name = progreso\n",
      "Record 350 | City Name = oktyabrskiy\n",
      "No city found.\n",
      "Record 351 | City Name = lazarev\n",
      "Record 352 | City Name = guilin\n",
      "Record 353 | City Name = katsuura\n",
      "No city found.\n",
      "Record 354 | City Name = luanda\n",
      "Record 355 | City Name = camabatela\n",
      "Record 356 | City Name = kenai\n",
      "Record 357 | City Name = wladyslawowo\n",
      "No city found.\n",
      "Record 358 | City Name = tursunzoda\n",
      "Record 359 | City Name = keetmanshoop\n",
      "Record 360 | City Name = brownsville\n",
      "Record 361 | City Name = sibolga\n",
      "Record 362 | City Name = khanpur\n",
      "Record 363 | City Name = corrales\n",
      "Record 364 | City Name = puno\n",
      "Record 365 | City Name = orocue\n",
      "Record 366 | City Name = rawlins\n",
      "Record 367 | City Name = pangai\n",
      "Record 368 | City Name = talara\n",
      "Record 369 | City Name = somerset\n",
      "Record 370 | City Name = sao joao da barra\n",
      "Record 371 | City Name = erzin\n",
      "Record 372 | City Name = muros\n",
      "Record 373 | City Name = aswan\n",
      "No city found.\n",
      "Record 374 | City Name = kodinsk\n",
      "Record 375 | City Name = mana\n",
      "Record 376 | City Name = tiarei\n",
      "Record 377 | City Name = aitape\n",
      "Record 378 | City Name = solnechnyy\n",
      "Record 379 | City Name = whitehorse\n",
      "Record 380 | City Name = coos bay\n",
      "Record 381 | City Name = santa ines\n",
      "No city found.\n",
      "Record 382 | City Name = nador\n",
      "Record 383 | City Name = caravelas\n",
      "Record 384 | City Name = buraydah\n",
      "Record 385 | City Name = marivan\n",
      "Record 386 | City Name = comodoro rivadavia\n",
      "Record 387 | City Name = denpasar\n",
      "Record 388 | City Name = cayenne\n",
      "Record 389 | City Name = san patricio\n",
      "Record 390 | City Name = jacareacanga\n",
      "Record 391 | City Name = itoman\n",
      "Record 392 | City Name = atar\n",
      "Record 393 | City Name = bambanglipuro\n",
      "No city found.\n",
      "Record 394 | City Name = aljezur\n",
      "Record 395 | City Name = port arthur\n",
      "Record 396 | City Name = coihaique\n",
      "Record 397 | City Name = san cristobal\n",
      "No city found.\n",
      "Record 398 | City Name = mogadishu\n",
      "Record 399 | City Name = baghdad\n",
      "Record 400 | City Name = monticello\n",
      "Record 401 | City Name = arteni\n",
      "Record 402 | City Name = lisakovsk\n",
      "Record 403 | City Name = ariquemes\n",
      "Record 404 | City Name = khetia\n",
      "Record 405 | City Name = praia\n",
      "Record 406 | City Name = igarka\n",
      "Record 407 | City Name = batabano\n",
      "Record 408 | City Name = wanning\n",
      "Record 409 | City Name = aktanysh\n",
      "Record 410 | City Name = ligayan\n",
      "Record 411 | City Name = choachi\n",
      "Record 412 | City Name = tapes\n",
      "Record 413 | City Name = youkounkoun\n",
      "Record 414 | City Name = belen\n",
      "Record 415 | City Name = bayan\n",
      "Record 416 | City Name = lagoa\n",
      "Record 417 | City Name = matam\n",
      "Record 418 | City Name = copiapo\n",
      "No city found.\n",
      "Record 419 | City Name = grand gaube\n",
      "Record 420 | City Name = inirida\n",
      "Record 421 | City Name = leningradskiy\n",
      "Record 422 | City Name = sao filipe\n",
      "Record 423 | City Name = belaya gora\n",
      "Record 424 | City Name = luena\n",
      "Record 425 | City Name = sechura\n",
      "Record 426 | City Name = baherden\n",
      "Record 427 | City Name = sabha\n",
      "Record 428 | City Name = ngama\n",
      "Record 429 | City Name = ziro\n",
      "Record 430 | City Name = bairnsdale\n",
      "Record 431 | City Name = chapais\n",
      "Record 432 | City Name = cervo\n",
      "Record 433 | City Name = coron\n",
      "Record 434 | City Name = susanville\n",
      "Record 435 | City Name = marfino\n",
      "Record 436 | City Name = zonguldak\n",
      "Record 437 | City Name = ukiah\n",
      "Record 438 | City Name = laukaa\n",
      "Record 439 | City Name = port augusta\n",
      "Record 440 | City Name = aasiaat\n",
      "Record 441 | City Name = deputatskiy\n",
      "Record 442 | City Name = emba\n",
      "Record 443 | City Name = palmer\n",
      "Record 444 | City Name = lasa\n",
      "Record 445 | City Name = wamba\n",
      "Record 446 | City Name = grindavik\n",
      "Record 447 | City Name = shestakovo\n",
      "Record 448 | City Name = port lincoln\n",
      "Record 449 | City Name = sulaco\n",
      "Record 450 | City Name = yarmouth\n",
      "Record 451 | City Name = fort william\n",
      "Record 452 | City Name = san vicente de canete\n",
      "Record 453 | City Name = belgaum\n",
      "Record 454 | City Name = haines junction\n",
      "Record 455 | City Name = kathmandu\n",
      "Record 456 | City Name = karonga\n",
      "No city found.\n",
      "Record 457 | City Name = karaton\n",
      "No city found.\n",
      "Record 458 | City Name = lieksa\n",
      "No city found.\n",
      "Record 459 | City Name = half moon bay\n",
      "Record 460 | City Name = yambio\n",
      "Record 461 | City Name = florianopolis\n",
      "Record 462 | City Name = nizwa\n",
      "Record 463 | City Name = marsh harbour\n"
     ]
    },
    {
     "name": "stdout",
     "output_type": "stream",
     "text": [
      "Record 464 | City Name = gouyave\n",
      "Record 465 | City Name = erenhot\n",
      "Record 466 | City Name = loding\n",
      "Record 467 | City Name = grand-lahou\n",
      "Record 468 | City Name = goulburn\n",
      "No city found.\n",
      "Record 469 | City Name = sungaipenuh\n",
      "Record 470 | City Name = sioux city\n",
      "Record 471 | City Name = pimentel\n",
      "No city found.\n",
      "Record 472 | City Name = dukat\n",
      "Record 473 | City Name = arenal\n",
      "Record 474 | City Name = imeni poliny osipenko\n",
      "Record 475 | City Name = mookane\n",
      "Record 476 | City Name = port hawkesbury\n",
      "Record 477 | City Name = kloulklubed\n",
      "Record 478 | City Name = vardo\n",
      "Record 479 | City Name = pacifica\n",
      "Record 480 | City Name = yanam\n",
      "Record 481 | City Name = nanakuli\n",
      "Record 482 | City Name = bilma\n",
      "Record 483 | City Name = calama\n",
      "Record 484 | City Name = cognac\n",
      "Record 485 | City Name = matara\n",
      "Record 486 | City Name = sweetwater\n",
      "No city found.\n",
      "Record 487 | City Name = agnibilekrou\n",
      "No city found.\n",
      "Record 488 | City Name = turbat\n",
      "Record 489 | City Name = namtsy\n",
      "Record 490 | City Name = yadgir\n",
      "Record 491 | City Name = aykhal\n",
      "Record 492 | City Name = itarema\n",
      "Record 493 | City Name = gharo\n",
      "Record 494 | City Name = manta\n",
      "Record 495 | City Name = verkhnevilyuysk\n",
      "Record 496 | City Name = muncar\n",
      "Record 497 | City Name = heishan\n",
      "Record 498 | City Name = banda aceh\n",
      "Record 499 | City Name = shitkino\n",
      "Record 500 | City Name = krasnyy chikoy\n",
      "Record 501 | City Name = mys shmidta\n",
      "Record 502 | City Name = orcopampa\n",
      "Record 503 | City Name = cascais\n",
      "Record 504 | City Name = bandarbeyla\n",
      "Record 505 | City Name = atherton\n",
      "Record 506 | City Name = sioux lookout\n",
      "Record 507 | City Name = parati\n",
      "Record 508 | City Name = shubarkuduk\n",
      "Record 509 | City Name = kudinovo\n",
      "Record 510 | City Name = tomatlan\n",
      "Record 511 | City Name = sidney\n",
      "Record 512 | City Name = ilebo\n",
      "Record 513 | City Name = coruripe\n",
      "Record 514 | City Name = bafoulabe\n",
      "Record 515 | City Name = vila velha\n",
      "Record 516 | City Name = lorengau\n",
      "Record 517 | City Name = ahipara\n",
      "Record 518 | City Name = trat\n",
      "Record 519 | City Name = havelock\n",
      "Record 520 | City Name = cap malheureux\n",
      "No city found.\n",
      "Record 521 | City Name = evensk\n",
      "Record 522 | City Name = sao felix do xingu\n",
      "Record 523 | City Name = zverinogolovskoye\n",
      "Record 524 | City Name = jiuquan\n",
      "No city found.\n",
      "Record 525 | City Name = pontianak\n",
      "Record 526 | City Name = dudinka\n",
      "Record 527 | City Name = saint-louis\n",
      "Record 528 | City Name = coahuayana\n",
      "Record 529 | City Name = kysyl-syr\n",
      "Record 530 | City Name = rimouski\n",
      "No city found.\n",
      "Record 531 | City Name = grenville\n",
      "No city found.\n",
      "Record 532 | City Name = maloy\n",
      "Record 533 | City Name = eureka\n",
      "Record 534 | City Name = quelimane\n",
      "Record 535 | City Name = pacific grove\n",
      "Record 536 | City Name = mogoytuy\n",
      "Record 537 | City Name = roald\n",
      "Record 538 | City Name = cabedelo\n",
      "Record 539 | City Name = uberlandia\n",
      "Record 540 | City Name = luganville\n",
      "Record 541 | City Name = astana\n",
      "Record 542 | City Name = margate\n",
      "Record 543 | City Name = union\n",
      "Record 544 | City Name = nkhotakota\n",
      "Record 545 | City Name = beyneu\n",
      "Record 546 | City Name = halifax\n",
      "No city found.\n",
      "Record 547 | City Name = alta floresta\n",
      "Record 548 | City Name = uruzgan\n",
      "Record 549 | City Name = bowen\n",
      "Record 550 | City Name = tornio\n",
      "Record 551 | City Name = vryburg\n",
      "Record 552 | City Name = jibuti\n",
      "Record 553 | City Name = port hardy\n",
      "Record 554 | City Name = barabai\n",
      "Record 555 | City Name = sidi qasim\n",
      "Record 556 | City Name = mazagao\n",
      "Record 557 | City Name = namatanai\n",
      "Record 558 | City Name = yangambi\n",
      "Record 559 | City Name = nicolas bravo\n",
      "Record 560 | City Name = omboue\n",
      "Record 561 | City Name = koumac\n",
      "Record 562 | City Name = prince rupert\n",
      "-------------------Data Retrival Job Complete-------------------\n"
     ]
    }
   ],
   "source": [
    "# set lists for the dataframe\n",
    "city_list = []\n",
    "city_number = []\n",
    "country = []\n",
    "cloudiness = []\n",
    "dates = []\n",
    "humidity = []\n",
    "lat = []\n",
    "lon = []\n",
    "temp = []\n",
    "max_temp = []\n",
    "wind_speed = []\n",
    "country = []\n",
    "\n",
    "# set initial count quantities for organization\n",
    "counter = 0\n",
    "\n",
    "# loop for creating dataframe columns\n",
    "for city in cities:\n",
    "    \n",
    "    try:\n",
    "        response = requests.get(query_url + city.replace(\" \",\"&\")).json()\n",
    "        city_number.append(response['id'])\n",
    "        country.append(response['sys']['country'])\n",
    "        lat.append(response['coord']['lat'])\n",
    "        lon.append(response['coord']['lon'])\n",
    "        dates.append(response['dt'])\n",
    "        temp.append(response['main']['temp'])\n",
    "        max_temp.append(response['main']['temp_max'])\n",
    "        humidity.append(response['main']['humidity'])\n",
    "        cloudiness.append(response['clouds']['all'])\n",
    "        wind_speed.append(response['wind']['speed'])\n",
    "        \n",
    "        if counter > 1000:\n",
    "            counter = 1\n",
    "            city_list.append(city)\n",
    "        else:\n",
    "            counter += 1\n",
    "            city_list.append(city)\n",
    "            print(f\"Record {counter} | City Name = {city}\")\n",
    "        \n",
    "    except Exception:\n",
    "        print(\"No city found.\")\n",
    "        \n",
    "print(\"-------------------Data Retrival Job Complete-------------------\")"
   ]
  },
  {
   "cell_type": "markdown",
   "metadata": {},
   "source": [
    "### Perform API Calls\n",
    "* Perform a weather check on each city using a series of successive API calls.\n",
    "* Include a print log of each city as it'sbeing processed (with the city number and city name).\n"
   ]
  },
  {
   "cell_type": "markdown",
   "metadata": {},
   "source": [
    "### Convert Raw Data to DataFrame\n",
    "* Export the city data into a .csv.\n",
    "* Display the DataFrame\n"
   ]
  },
  {
   "cell_type": "code",
   "execution_count": 5,
   "metadata": {},
   "outputs": [
    {
     "data": {
      "text/html": [
       "<div>\n",
       "<style scoped>\n",
       "    .dataframe tbody tr th:only-of-type {\n",
       "        vertical-align: middle;\n",
       "    }\n",
       "\n",
       "    .dataframe tbody tr th {\n",
       "        vertical-align: top;\n",
       "    }\n",
       "\n",
       "    .dataframe thead th {\n",
       "        text-align: right;\n",
       "    }\n",
       "</style>\n",
       "<table border=\"1\" class=\"dataframe\">\n",
       "  <thead>\n",
       "    <tr style=\"text-align: right;\">\n",
       "      <th></th>\n",
       "      <th>city</th>\n",
       "      <th>country</th>\n",
       "      <th>city id</th>\n",
       "      <th>lat</th>\n",
       "      <th>lon</th>\n",
       "      <th>temp</th>\n",
       "      <th>temp_max</th>\n",
       "      <th>humidity</th>\n",
       "      <th>cloudiness</th>\n",
       "      <th>wind speed</th>\n",
       "    </tr>\n",
       "  </thead>\n",
       "  <tbody>\n",
       "    <tr>\n",
       "      <td>0</td>\n",
       "      <td>santa fe</td>\n",
       "      <td>PH</td>\n",
       "      <td>1688420</td>\n",
       "      <td>17.49</td>\n",
       "      <td>120.43</td>\n",
       "      <td>26.13</td>\n",
       "      <td>26.13</td>\n",
       "      <td>82</td>\n",
       "      <td>7</td>\n",
       "      <td>1.63</td>\n",
       "    </tr>\n",
       "    <tr>\n",
       "      <td>1</td>\n",
       "      <td>egvekinot</td>\n",
       "      <td>RU</td>\n",
       "      <td>4031742</td>\n",
       "      <td>66.32</td>\n",
       "      <td>-179.17</td>\n",
       "      <td>10.70</td>\n",
       "      <td>10.70</td>\n",
       "      <td>84</td>\n",
       "      <td>38</td>\n",
       "      <td>0.74</td>\n",
       "    </tr>\n",
       "    <tr>\n",
       "      <td>2</td>\n",
       "      <td>kodiak</td>\n",
       "      <td>US</td>\n",
       "      <td>5866583</td>\n",
       "      <td>57.79</td>\n",
       "      <td>-152.41</td>\n",
       "      <td>14.00</td>\n",
       "      <td>14.00</td>\n",
       "      <td>76</td>\n",
       "      <td>90</td>\n",
       "      <td>1.50</td>\n",
       "    </tr>\n",
       "    <tr>\n",
       "      <td>3</td>\n",
       "      <td>manosque</td>\n",
       "      <td>FR</td>\n",
       "      <td>2996180</td>\n",
       "      <td>43.83</td>\n",
       "      <td>5.79</td>\n",
       "      <td>25.00</td>\n",
       "      <td>25.00</td>\n",
       "      <td>51</td>\n",
       "      <td>99</td>\n",
       "      <td>0.89</td>\n",
       "    </tr>\n",
       "    <tr>\n",
       "      <td>4</td>\n",
       "      <td>ancud</td>\n",
       "      <td>CL</td>\n",
       "      <td>3899695</td>\n",
       "      <td>-41.87</td>\n",
       "      <td>-73.82</td>\n",
       "      <td>10.78</td>\n",
       "      <td>11.67</td>\n",
       "      <td>93</td>\n",
       "      <td>90</td>\n",
       "      <td>5.10</td>\n",
       "    </tr>\n",
       "    <tr>\n",
       "      <td>...</td>\n",
       "      <td>...</td>\n",
       "      <td>...</td>\n",
       "      <td>...</td>\n",
       "      <td>...</td>\n",
       "      <td>...</td>\n",
       "      <td>...</td>\n",
       "      <td>...</td>\n",
       "      <td>...</td>\n",
       "      <td>...</td>\n",
       "      <td>...</td>\n",
       "    </tr>\n",
       "    <tr>\n",
       "      <td>557</td>\n",
       "      <td>yangambi</td>\n",
       "      <td>CD</td>\n",
       "      <td>203717</td>\n",
       "      <td>0.81</td>\n",
       "      <td>24.43</td>\n",
       "      <td>23.24</td>\n",
       "      <td>23.24</td>\n",
       "      <td>84</td>\n",
       "      <td>100</td>\n",
       "      <td>1.12</td>\n",
       "    </tr>\n",
       "    <tr>\n",
       "      <td>558</td>\n",
       "      <td>nicolas bravo</td>\n",
       "      <td>HT</td>\n",
       "      <td>3728097</td>\n",
       "      <td>18.23</td>\n",
       "      <td>-73.82</td>\n",
       "      <td>30.51</td>\n",
       "      <td>30.51</td>\n",
       "      <td>60</td>\n",
       "      <td>8</td>\n",
       "      <td>3.53</td>\n",
       "    </tr>\n",
       "    <tr>\n",
       "      <td>559</td>\n",
       "      <td>omboue</td>\n",
       "      <td>GA</td>\n",
       "      <td>2396853</td>\n",
       "      <td>-1.57</td>\n",
       "      <td>9.26</td>\n",
       "      <td>22.87</td>\n",
       "      <td>22.87</td>\n",
       "      <td>87</td>\n",
       "      <td>100</td>\n",
       "      <td>3.61</td>\n",
       "    </tr>\n",
       "    <tr>\n",
       "      <td>560</td>\n",
       "      <td>koumac</td>\n",
       "      <td>NC</td>\n",
       "      <td>2140558</td>\n",
       "      <td>-20.57</td>\n",
       "      <td>164.28</td>\n",
       "      <td>18.01</td>\n",
       "      <td>18.01</td>\n",
       "      <td>65</td>\n",
       "      <td>21</td>\n",
       "      <td>1.43</td>\n",
       "    </tr>\n",
       "    <tr>\n",
       "      <td>561</td>\n",
       "      <td>prince rupert</td>\n",
       "      <td>CA</td>\n",
       "      <td>6113332</td>\n",
       "      <td>52.97</td>\n",
       "      <td>-108.38</td>\n",
       "      <td>22.00</td>\n",
       "      <td>22.00</td>\n",
       "      <td>60</td>\n",
       "      <td>1</td>\n",
       "      <td>3.10</td>\n",
       "    </tr>\n",
       "  </tbody>\n",
       "</table>\n",
       "<p>562 rows × 10 columns</p>\n",
       "</div>"
      ],
      "text/plain": [
       "              city country  city id    lat     lon   temp  temp_max  humidity  \\\n",
       "0         santa fe      PH  1688420  17.49  120.43  26.13     26.13        82   \n",
       "1        egvekinot      RU  4031742  66.32 -179.17  10.70     10.70        84   \n",
       "2           kodiak      US  5866583  57.79 -152.41  14.00     14.00        76   \n",
       "3         manosque      FR  2996180  43.83    5.79  25.00     25.00        51   \n",
       "4            ancud      CL  3899695 -41.87  -73.82  10.78     11.67        93   \n",
       "..             ...     ...      ...    ...     ...    ...       ...       ...   \n",
       "557       yangambi      CD   203717   0.81   24.43  23.24     23.24        84   \n",
       "558  nicolas bravo      HT  3728097  18.23  -73.82  30.51     30.51        60   \n",
       "559         omboue      GA  2396853  -1.57    9.26  22.87     22.87        87   \n",
       "560         koumac      NC  2140558 -20.57  164.28  18.01     18.01        65   \n",
       "561  prince rupert      CA  6113332  52.97 -108.38  22.00     22.00        60   \n",
       "\n",
       "     cloudiness  wind speed  \n",
       "0             7        1.63  \n",
       "1            38        0.74  \n",
       "2            90        1.50  \n",
       "3            99        0.89  \n",
       "4            90        5.10  \n",
       "..          ...         ...  \n",
       "557         100        1.12  \n",
       "558           8        3.53  \n",
       "559         100        3.61  \n",
       "560          21        1.43  \n",
       "561           1        3.10  \n",
       "\n",
       "[562 rows x 10 columns]"
      ]
     },
     "execution_count": 5,
     "metadata": {},
     "output_type": "execute_result"
    }
   ],
   "source": [
    "# create a data frame from cities, lat, and temp\n",
    "\n",
    "weather_dict = {\n",
    "    \n",
    "    \"city\": city_list,\n",
    "    \"country\": country, \n",
    "    \"city id\": city_number,\n",
    "    \"lat\": lat,\n",
    "    \"lon\": lon,\n",
    "    \"temp\": temp,\n",
    "    \"temp_max\": max_temp,\n",
    "    \"humidity\": humidity,\n",
    "    \"cloudiness\": cloudiness,\n",
    "    \"wind speed\": wind_speed,\n",
    "\n",
    "}\n",
    "city_weather_data = pd.DataFrame(weather_dict)\n",
    "city_weather_data"
   ]
  },
  {
   "cell_type": "code",
   "execution_count": 6,
   "metadata": {},
   "outputs": [],
   "source": [
    "city_weather_data.to_csv('city_weather_data.csv')"
   ]
  },
  {
   "cell_type": "markdown",
   "metadata": {},
   "source": [
    "### Plotting the Data\n",
    "* Use proper labeling of the plots using plot titles (including date of analysis) and axes labels.\n",
    "* Save the plotted figures as .pngs."
   ]
  },
  {
   "cell_type": "markdown",
   "metadata": {},
   "source": [
    "#### Latitude vs. Temperature Plot"
   ]
  },
  {
   "cell_type": "code",
   "execution_count": 8,
   "metadata": {
    "scrolled": true
   },
   "outputs": [
    {
     "data": {
      "image/png": "[encoded data removed]",
      "text/plain": [
       "<Figure size 432x288 with 1 Axes>"
      ]
     },
     "metadata": {
      "needs_background": "light"
     },
     "output_type": "display_data"
    }
   ],
   "source": [
    "#Temperature (F) vs. Latitude\n",
    "lat_values = city_weather_data['lat']\n",
    "temp_values = city_weather_data['temp']\n",
    "plt.scatter(lat_values,temp_values)\n",
    "plt.title('Temperature (F) vs. Latitude')\n",
    "plt.xlabel('Latitude')\n",
    "plt.ylabel('Temperature')\n",
    "plt.show()"
   ]
  },
  {
   "cell_type": "markdown",
   "metadata": {},
   "source": [
    "#### Latitude vs. Humidity Plot"
   ]
  },
  {
   "cell_type": "code",
   "execution_count": 9,
   "metadata": {},
   "outputs": [
    {
     "data": {
      "image/png": "[encoded data removed]",
      "text/plain": [
       "<Figure size 432x288 with 1 Axes>"
      ]
     },
     "metadata": {
      "needs_background": "light"
     },
     "output_type": "display_data"
    }
   ],
   "source": [
    "# Humidity (%) vs. Latitude\n",
    "lat_values = city_weather_data['lat']\n",
    "humidity_values = city_weather_data['humidity']\n",
    "plt.scatter(lat_values,humidity_values)\n",
    "plt.title('Humidity (%) vs. Latitude')\n",
    "plt.xlabel('Latitude')\n",
    "plt.ylabel('Humidity')\n",
    "plt.show()"
   ]
  },
  {
   "cell_type": "markdown",
   "metadata": {},
   "source": [
    "#### Latitude vs. Cloudiness Plot"
   ]
  },
  {
   "cell_type": "code",
   "execution_count": 10,
   "metadata": {
    "scrolled": true
   },
   "outputs": [
    {
     "data": {
      "image/png": "[encoded data removed]",
      "text/plain": [
       "<Figure size 432x288 with 1 Axes>"
      ]
     },
     "metadata": {
      "needs_background": "light"
     },
     "output_type": "display_data"
    }
   ],
   "source": [
    "# Cloudiness (%) vs. Latitude\n",
    "lat_values = city_weather_data['lat']\n",
    "cloudiness_values = city_weather_data['cloudiness']\n",
    "plt.scatter(lat_values,cloudiness_values)\n",
    "plt.title('Cloudiness (%) vs. Latitude')\n",
    "plt.xlabel('Latitude')\n",
    "plt.ylabel('Cloudiness')\n",
    "plt.show()"
   ]
  },
  {
   "cell_type": "markdown",
   "metadata": {},
   "source": [
    "#### Latitude vs. Wind Speed Plot"
   ]
  },
  {
   "cell_type": "code",
   "execution_count": 11,
   "metadata": {},
   "outputs": [
    {
     "data": {
      "image/png": "[encoded data removed]",
      "text/plain": [
       "<Figure size 432x288 with 1 Axes>"
      ]
     },
     "metadata": {
      "needs_background": "light"
     },
     "output_type": "display_data"
    }
   ],
   "source": [
    "#Wind Speed (mph) vs. Latitude\n",
    "lat_values = city_weather_data['lat']\n",
    "windspeed_values = city_weather_data['wind speed']\n",
    "plt.scatter(lat_values,windspeed_values)\n",
    "plt.title('Wind Speed (mph) vs. Latitude')\n",
    "plt.xlabel('Latitude')\n",
    "plt.ylabel('Wind Speed (mph)')\n",
    "plt.show()"
   ]
  },
  {
   "cell_type": "markdown",
   "metadata": {},
   "source": [
    "## Linear Regression"
   ]
  },
  {
   "cell_type": "code",
   "execution_count": null,
   "metadata": {},
   "outputs": [],
   "source": [
    "# OPTIONAL: Create a function to create Linear Regression plots\n",
    "(slope, intercept, rvalue, pvalue, stderr) = stats.linregress(lat_values, windspeed_values)\n",
    "\n",
    "# Get regression values\n",
    "regress_values = lat_values * slope + intercept\n",
    "print(regress_values)"
   ]
  },
  {
   "cell_type": "code",
   "execution_count": null,
   "metadata": {},
   "outputs": [],
   "source": [
    "# Create line equation string\n",
    "line_eq = \"y = \" + str(round(slope,2)) + \"x +\" + str(round(intercept,2))\n",
    "print(line_eq)"
   ]
  },
  {
   "cell_type": "code",
   "execution_count": null,
   "metadata": {},
   "outputs": [],
   "source": [
    "# Create Northern and Southern Hemisphere DataFrames"
   ]
  },
  {
   "cell_type": "code",
   "execution_count": 12,
   "metadata": {},
   "outputs": [
    {
     "data": {
      "text/plain": [
       "0      True\n",
       "1      True\n",
       "2      True\n",
       "3      True\n",
       "4     False\n",
       "5      True\n",
       "6     False\n",
       "7     False\n",
       "8      True\n",
       "9     False\n",
       "10    False\n",
       "11     True\n",
       "12    False\n",
       "13    False\n",
       "14     True\n",
       "15     True\n",
       "16     True\n",
       "17    False\n",
       "18     True\n",
       "19    False\n",
       "Name: lat, dtype: bool"
      ]
     },
     "execution_count": 12,
     "metadata": {},
     "output_type": "execute_result"
    }
   ],
   "source": [
    "# Setting Northern Hemisphere Conditions for DataFrame\n",
    "northern_hem = city_weather_data.lat >= 0\n",
    "northern_hem.head(20)"
   ]
  },
  {
   "cell_type": "code",
   "execution_count": 13,
   "metadata": {},
   "outputs": [
    {
     "data": {
      "text/html": [
       "<div>\n",
       "<style scoped>\n",
       "    .dataframe tbody tr th:only-of-type {\n",
       "        vertical-align: middle;\n",
       "    }\n",
       "\n",
       "    .dataframe tbody tr th {\n",
       "        vertical-align: top;\n",
       "    }\n",
       "\n",
       "    .dataframe thead th {\n",
       "        text-align: right;\n",
       "    }\n",
       "</style>\n",
       "<table border=\"1\" class=\"dataframe\">\n",
       "  <thead>\n",
       "    <tr style=\"text-align: right;\">\n",
       "      <th></th>\n",
       "      <th>city</th>\n",
       "      <th>country</th>\n",
       "      <th>city id</th>\n",
       "      <th>lat</th>\n",
       "      <th>lon</th>\n",
       "      <th>temp</th>\n",
       "      <th>temp_max</th>\n",
       "      <th>humidity</th>\n",
       "      <th>cloudiness</th>\n",
       "      <th>wind speed</th>\n",
       "    </tr>\n",
       "  </thead>\n",
       "  <tbody>\n",
       "    <tr>\n",
       "      <td>0</td>\n",
       "      <td>santa fe</td>\n",
       "      <td>PH</td>\n",
       "      <td>1688420</td>\n",
       "      <td>17.49</td>\n",
       "      <td>120.43</td>\n",
       "      <td>26.13</td>\n",
       "      <td>26.13</td>\n",
       "      <td>82</td>\n",
       "      <td>7</td>\n",
       "      <td>1.63</td>\n",
       "    </tr>\n",
       "    <tr>\n",
       "      <td>1</td>\n",
       "      <td>egvekinot</td>\n",
       "      <td>RU</td>\n",
       "      <td>4031742</td>\n",
       "      <td>66.32</td>\n",
       "      <td>-179.17</td>\n",
       "      <td>10.70</td>\n",
       "      <td>10.70</td>\n",
       "      <td>84</td>\n",
       "      <td>38</td>\n",
       "      <td>0.74</td>\n",
       "    </tr>\n",
       "    <tr>\n",
       "      <td>2</td>\n",
       "      <td>kodiak</td>\n",
       "      <td>US</td>\n",
       "      <td>5866583</td>\n",
       "      <td>57.79</td>\n",
       "      <td>-152.41</td>\n",
       "      <td>14.00</td>\n",
       "      <td>14.00</td>\n",
       "      <td>76</td>\n",
       "      <td>90</td>\n",
       "      <td>1.50</td>\n",
       "    </tr>\n",
       "    <tr>\n",
       "      <td>3</td>\n",
       "      <td>manosque</td>\n",
       "      <td>FR</td>\n",
       "      <td>2996180</td>\n",
       "      <td>43.83</td>\n",
       "      <td>5.79</td>\n",
       "      <td>25.00</td>\n",
       "      <td>25.00</td>\n",
       "      <td>51</td>\n",
       "      <td>99</td>\n",
       "      <td>0.89</td>\n",
       "    </tr>\n",
       "    <tr>\n",
       "      <td>5</td>\n",
       "      <td>saskylakh</td>\n",
       "      <td>RU</td>\n",
       "      <td>2017155</td>\n",
       "      <td>71.92</td>\n",
       "      <td>114.08</td>\n",
       "      <td>8.80</td>\n",
       "      <td>8.80</td>\n",
       "      <td>61</td>\n",
       "      <td>100</td>\n",
       "      <td>9.51</td>\n",
       "    </tr>\n",
       "    <tr>\n",
       "      <td>...</td>\n",
       "      <td>...</td>\n",
       "      <td>...</td>\n",
       "      <td>...</td>\n",
       "      <td>...</td>\n",
       "      <td>...</td>\n",
       "      <td>...</td>\n",
       "      <td>...</td>\n",
       "      <td>...</td>\n",
       "      <td>...</td>\n",
       "      <td>...</td>\n",
       "    </tr>\n",
       "    <tr>\n",
       "      <td>551</td>\n",
       "      <td>jibuti</td>\n",
       "      <td>DJ</td>\n",
       "      <td>223816</td>\n",
       "      <td>11.50</td>\n",
       "      <td>42.50</td>\n",
       "      <td>36.00</td>\n",
       "      <td>36.00</td>\n",
       "      <td>30</td>\n",
       "      <td>75</td>\n",
       "      <td>2.10</td>\n",
       "    </tr>\n",
       "    <tr>\n",
       "      <td>554</td>\n",
       "      <td>sidi qasim</td>\n",
       "      <td>CF</td>\n",
       "      <td>2385535</td>\n",
       "      <td>5.08</td>\n",
       "      <td>19.88</td>\n",
       "      <td>22.05</td>\n",
       "      <td>22.05</td>\n",
       "      <td>95</td>\n",
       "      <td>100</td>\n",
       "      <td>1.44</td>\n",
       "    </tr>\n",
       "    <tr>\n",
       "      <td>557</td>\n",
       "      <td>yangambi</td>\n",
       "      <td>CD</td>\n",
       "      <td>203717</td>\n",
       "      <td>0.81</td>\n",
       "      <td>24.43</td>\n",
       "      <td>23.24</td>\n",
       "      <td>23.24</td>\n",
       "      <td>84</td>\n",
       "      <td>100</td>\n",
       "      <td>1.12</td>\n",
       "    </tr>\n",
       "    <tr>\n",
       "      <td>558</td>\n",
       "      <td>nicolas bravo</td>\n",
       "      <td>HT</td>\n",
       "      <td>3728097</td>\n",
       "      <td>18.23</td>\n",
       "      <td>-73.82</td>\n",
       "      <td>30.51</td>\n",
       "      <td>30.51</td>\n",
       "      <td>60</td>\n",
       "      <td>8</td>\n",
       "      <td>3.53</td>\n",
       "    </tr>\n",
       "    <tr>\n",
       "      <td>561</td>\n",
       "      <td>prince rupert</td>\n",
       "      <td>CA</td>\n",
       "      <td>6113332</td>\n",
       "      <td>52.97</td>\n",
       "      <td>-108.38</td>\n",
       "      <td>22.00</td>\n",
       "      <td>22.00</td>\n",
       "      <td>60</td>\n",
       "      <td>1</td>\n",
       "      <td>3.10</td>\n",
       "    </tr>\n",
       "  </tbody>\n",
       "</table>\n",
       "<p>395 rows × 10 columns</p>\n",
       "</div>"
      ],
      "text/plain": [
       "              city country  city id    lat     lon   temp  temp_max  humidity  \\\n",
       "0         santa fe      PH  1688420  17.49  120.43  26.13     26.13        82   \n",
       "1        egvekinot      RU  4031742  66.32 -179.17  10.70     10.70        84   \n",
       "2           kodiak      US  5866583  57.79 -152.41  14.00     14.00        76   \n",
       "3         manosque      FR  2996180  43.83    5.79  25.00     25.00        51   \n",
       "5        saskylakh      RU  2017155  71.92  114.08   8.80      8.80        61   \n",
       "..             ...     ...      ...    ...     ...    ...       ...       ...   \n",
       "551         jibuti      DJ   223816  11.50   42.50  36.00     36.00        30   \n",
       "554     sidi qasim      CF  2385535   5.08   19.88  22.05     22.05        95   \n",
       "557       yangambi      CD   203717   0.81   24.43  23.24     23.24        84   \n",
       "558  nicolas bravo      HT  3728097  18.23  -73.82  30.51     30.51        60   \n",
       "561  prince rupert      CA  6113332  52.97 -108.38  22.00     22.00        60   \n",
       "\n",
       "     cloudiness  wind speed  \n",
       "0             7        1.63  \n",
       "1            38        0.74  \n",
       "2            90        1.50  \n",
       "3            99        0.89  \n",
       "5           100        9.51  \n",
       "..          ...         ...  \n",
       "551          75        2.10  \n",
       "554         100        1.44  \n",
       "557         100        1.12  \n",
       "558           8        3.53  \n",
       "561           1        3.10  \n",
       "\n",
       "[395 rows x 10 columns]"
      ]
     },
     "execution_count": 13,
     "metadata": {},
     "output_type": "execute_result"
    }
   ],
   "source": [
    "# Nothern Hemisphere DataFrame\n",
    "northern_hemisphere_df = city_weather_data[northern_hem]\n",
    "northern_hemisphere_df"
   ]
  },
  {
   "cell_type": "code",
   "execution_count": 14,
   "metadata": {},
   "outputs": [
    {
     "data": {
      "text/plain": [
       "0    False\n",
       "1    False\n",
       "2    False\n",
       "3    False\n",
       "4     True\n",
       "5    False\n",
       "6     True\n",
       "7     True\n",
       "8    False\n",
       "9     True\n",
       "Name: lat, dtype: bool"
      ]
     },
     "execution_count": 14,
     "metadata": {},
     "output_type": "execute_result"
    }
   ],
   "source": [
    "# Setting Southern Hemisphere Conditions for DataFrame\n",
    "southern_hem = city_weather_data.lat <= 0\n",
    "southern_hem.head(10)"
   ]
  },
  {
   "cell_type": "code",
   "execution_count": 15,
   "metadata": {},
   "outputs": [
    {
     "data": {
      "text/html": [
       "<div>\n",
       "<style scoped>\n",
       "    .dataframe tbody tr th:only-of-type {\n",
       "        vertical-align: middle;\n",
       "    }\n",
       "\n",
       "    .dataframe tbody tr th {\n",
       "        vertical-align: top;\n",
       "    }\n",
       "\n",
       "    .dataframe thead th {\n",
       "        text-align: right;\n",
       "    }\n",
       "</style>\n",
       "<table border=\"1\" class=\"dataframe\">\n",
       "  <thead>\n",
       "    <tr style=\"text-align: right;\">\n",
       "      <th></th>\n",
       "      <th>city</th>\n",
       "      <th>country</th>\n",
       "      <th>city id</th>\n",
       "      <th>lat</th>\n",
       "      <th>lon</th>\n",
       "      <th>temp</th>\n",
       "      <th>temp_max</th>\n",
       "      <th>humidity</th>\n",
       "      <th>cloudiness</th>\n",
       "      <th>wind speed</th>\n",
       "    </tr>\n",
       "  </thead>\n",
       "  <tbody>\n",
       "    <tr>\n",
       "      <td>4</td>\n",
       "      <td>ancud</td>\n",
       "      <td>CL</td>\n",
       "      <td>3899695</td>\n",
       "      <td>-41.87</td>\n",
       "      <td>-73.82</td>\n",
       "      <td>10.78</td>\n",
       "      <td>11.67</td>\n",
       "      <td>93</td>\n",
       "      <td>90</td>\n",
       "      <td>5.10</td>\n",
       "    </tr>\n",
       "    <tr>\n",
       "      <td>6</td>\n",
       "      <td>sola</td>\n",
       "      <td>VU</td>\n",
       "      <td>2134814</td>\n",
       "      <td>-13.88</td>\n",
       "      <td>167.55</td>\n",
       "      <td>25.00</td>\n",
       "      <td>25.00</td>\n",
       "      <td>100</td>\n",
       "      <td>90</td>\n",
       "      <td>2.60</td>\n",
       "    </tr>\n",
       "    <tr>\n",
       "      <td>7</td>\n",
       "      <td>ulladulla</td>\n",
       "      <td>AU</td>\n",
       "      <td>2145554</td>\n",
       "      <td>-35.35</td>\n",
       "      <td>150.47</td>\n",
       "      <td>8.44</td>\n",
       "      <td>11.67</td>\n",
       "      <td>66</td>\n",
       "      <td>90</td>\n",
       "      <td>7.70</td>\n",
       "    </tr>\n",
       "    <tr>\n",
       "      <td>9</td>\n",
       "      <td>mataura</td>\n",
       "      <td>NZ</td>\n",
       "      <td>6201424</td>\n",
       "      <td>-46.19</td>\n",
       "      <td>168.86</td>\n",
       "      <td>-1.85</td>\n",
       "      <td>-1.85</td>\n",
       "      <td>98</td>\n",
       "      <td>23</td>\n",
       "      <td>0.88</td>\n",
       "    </tr>\n",
       "    <tr>\n",
       "      <td>10</td>\n",
       "      <td>ushuaia</td>\n",
       "      <td>AR</td>\n",
       "      <td>3833367</td>\n",
       "      <td>-54.80</td>\n",
       "      <td>-68.30</td>\n",
       "      <td>1.00</td>\n",
       "      <td>1.00</td>\n",
       "      <td>89</td>\n",
       "      <td>0</td>\n",
       "      <td>2.10</td>\n",
       "    </tr>\n",
       "    <tr>\n",
       "      <td>...</td>\n",
       "      <td>...</td>\n",
       "      <td>...</td>\n",
       "      <td>...</td>\n",
       "      <td>...</td>\n",
       "      <td>...</td>\n",
       "      <td>...</td>\n",
       "      <td>...</td>\n",
       "      <td>...</td>\n",
       "      <td>...</td>\n",
       "      <td>...</td>\n",
       "    </tr>\n",
       "    <tr>\n",
       "      <td>553</td>\n",
       "      <td>barabai</td>\n",
       "      <td>ID</td>\n",
       "      <td>1650064</td>\n",
       "      <td>-2.58</td>\n",
       "      <td>115.38</td>\n",
       "      <td>23.11</td>\n",
       "      <td>23.11</td>\n",
       "      <td>91</td>\n",
       "      <td>100</td>\n",
       "      <td>0.28</td>\n",
       "    </tr>\n",
       "    <tr>\n",
       "      <td>555</td>\n",
       "      <td>mazagao</td>\n",
       "      <td>BR</td>\n",
       "      <td>3395042</td>\n",
       "      <td>-0.12</td>\n",
       "      <td>-51.29</td>\n",
       "      <td>34.00</td>\n",
       "      <td>34.00</td>\n",
       "      <td>56</td>\n",
       "      <td>75</td>\n",
       "      <td>3.60</td>\n",
       "    </tr>\n",
       "    <tr>\n",
       "      <td>556</td>\n",
       "      <td>namatanai</td>\n",
       "      <td>PG</td>\n",
       "      <td>2090021</td>\n",
       "      <td>-3.67</td>\n",
       "      <td>152.43</td>\n",
       "      <td>26.02</td>\n",
       "      <td>26.02</td>\n",
       "      <td>81</td>\n",
       "      <td>18</td>\n",
       "      <td>1.62</td>\n",
       "    </tr>\n",
       "    <tr>\n",
       "      <td>559</td>\n",
       "      <td>omboue</td>\n",
       "      <td>GA</td>\n",
       "      <td>2396853</td>\n",
       "      <td>-1.57</td>\n",
       "      <td>9.26</td>\n",
       "      <td>22.87</td>\n",
       "      <td>22.87</td>\n",
       "      <td>87</td>\n",
       "      <td>100</td>\n",
       "      <td>3.61</td>\n",
       "    </tr>\n",
       "    <tr>\n",
       "      <td>560</td>\n",
       "      <td>koumac</td>\n",
       "      <td>NC</td>\n",
       "      <td>2140558</td>\n",
       "      <td>-20.57</td>\n",
       "      <td>164.28</td>\n",
       "      <td>18.01</td>\n",
       "      <td>18.01</td>\n",
       "      <td>65</td>\n",
       "      <td>21</td>\n",
       "      <td>1.43</td>\n",
       "    </tr>\n",
       "  </tbody>\n",
       "</table>\n",
       "<p>167 rows × 10 columns</p>\n",
       "</div>"
      ],
      "text/plain": [
       "          city country  city id    lat     lon   temp  temp_max  humidity  \\\n",
       "4        ancud      CL  3899695 -41.87  -73.82  10.78     11.67        93   \n",
       "6         sola      VU  2134814 -13.88  167.55  25.00     25.00       100   \n",
       "7    ulladulla      AU  2145554 -35.35  150.47   8.44     11.67        66   \n",
       "9      mataura      NZ  6201424 -46.19  168.86  -1.85     -1.85        98   \n",
       "10     ushuaia      AR  3833367 -54.80  -68.30   1.00      1.00        89   \n",
       "..         ...     ...      ...    ...     ...    ...       ...       ...   \n",
       "553    barabai      ID  1650064  -2.58  115.38  23.11     23.11        91   \n",
       "555    mazagao      BR  3395042  -0.12  -51.29  34.00     34.00        56   \n",
       "556  namatanai      PG  2090021  -3.67  152.43  26.02     26.02        81   \n",
       "559     omboue      GA  2396853  -1.57    9.26  22.87     22.87        87   \n",
       "560     koumac      NC  2140558 -20.57  164.28  18.01     18.01        65   \n",
       "\n",
       "     cloudiness  wind speed  \n",
       "4            90        5.10  \n",
       "6            90        2.60  \n",
       "7            90        7.70  \n",
       "9            23        0.88  \n",
       "10            0        2.10  \n",
       "..          ...         ...  \n",
       "553         100        0.28  \n",
       "555          75        3.60  \n",
       "556          18        1.62  \n",
       "559         100        3.61  \n",
       "560          21        1.43  \n",
       "\n",
       "[167 rows x 10 columns]"
      ]
     },
     "execution_count": 15,
     "metadata": {},
     "output_type": "execute_result"
    }
   ],
   "source": [
    "# Southern Hemisphere DataFrame\n",
    "southern_hemisphere_df = city_weather_data[southern_hem]\n",
    "southern_hemisphere_df "
   ]
  },
  {
   "cell_type": "markdown",
   "metadata": {},
   "source": [
    "####  Northern Hemisphere - Max Temp vs. Latitude Linear Regression"
   ]
  },
  {
   "cell_type": "code",
   "execution_count": 16,
   "metadata": {},
   "outputs": [
    {
     "data": {
      "image/png": "[encoded data removed]",
      "text/plain": [
       "<Figure size 432x288 with 1 Axes>"
      ]
     },
     "metadata": {
      "needs_background": "light"
     },
     "output_type": "display_data"
    }
   ],
   "source": [
    "# Northern Hemisphere - Max Temp vs. Latitude Linear Regression\n",
    "northern_lat_values = northern_hemisphere_df['lat']\n",
    "northern_max_temp_values = northern_hemisphere_df['temp_max']\n",
    "plt.scatter(northern_lat_values,northern_max_temp_values)\n",
    "plt.title('Northern Hemisphere - Max Temp vs. Latitude')\n",
    "plt.xlabel('Latitude')\n",
    "plt.ylabel('Max Temp')\n",
    "plt.show()"
   ]
  },
  {
   "cell_type": "code",
   "execution_count": 17,
   "metadata": {},
   "outputs": [
    {
     "name": "stdout",
     "output_type": "stream",
     "text": [
      "0      28.291549\n",
      "1      14.573971\n",
      "2      16.970263\n",
      "3      20.891979\n",
      "5      13.000790\n",
      "         ...    \n",
      "551    29.974291\n",
      "554    31.777831\n",
      "557    32.977382\n",
      "558    28.083665\n",
      "561    18.324323\n",
      "Name: lat, Length: 395, dtype: float64\n"
     ]
    }
   ],
   "source": [
    "# Perform a linear regression on max temp vs. latitude\n",
    "(slope, intercept, rvalue, pvalue, stderr) = stats.linregress(northern_lat_values, northern_max_temp_values)\n",
    "\n",
    "# Get regression values\n",
    "regress_values = northern_lat_values * slope + intercept\n",
    "print(regress_values)"
   ]
  },
  {
   "cell_type": "code",
   "execution_count": 18,
   "metadata": {},
   "outputs": [
    {
     "name": "stdout",
     "output_type": "stream",
     "text": [
      "y = -0.28x +33.2\n"
     ]
    }
   ],
   "source": [
    "# Create line equation string\n",
    "line_eq = \"y = \" + str(round(slope,2)) + \"x +\" + str(round(intercept,2))\n",
    "print(line_eq)"
   ]
  },
  {
   "cell_type": "code",
   "execution_count": 19,
   "metadata": {},
   "outputs": [
    {
     "name": "stdout",
     "output_type": "stream",
     "text": [
      "The r-squared is: 0.5150961023306362\n"
     ]
    },
    {
     "data": {
      "image/png": "[encoded data removed]",
      "text/plain": [
       "<Figure size 432x288 with 1 Axes>"
      ]
     },
     "metadata": {
      "needs_background": "light"
     },
     "output_type": "display_data"
    }
   ],
   "source": [
    "# Northern Hemisphere - Max Temp vs. Latitude Linear Regression\n",
    "# Create Plot\n",
    "plt.scatter(northern_lat_values,northern_max_temp_values)\n",
    "plt.plot(northern_lat_values,regress_values,\"r-\")\n",
    "\n",
    "# Label plot and annotate the line equation\n",
    "plt.xlabel('Latitude')\n",
    "plt.ylabel('Max Temp')\n",
    "plt.title('Northern Hemisphere - Max Temp vs. Latitude Linear Regression')\n",
    "\n",
    "plt.annotate(line_eq,(20,15),fontsize=15,color=\"red\")\n",
    "\n",
    "# Print r square value\n",
    "print(f\"The r-squared is: {rvalue**2}\")\n",
    "\n",
    "# Show plot\n",
    "plt.show()"
   ]
  },
  {
   "cell_type": "markdown",
   "metadata": {},
   "source": [
    "####  Southern Hemisphere - Max Temp vs. Latitude Linear Regression"
   ]
  },
  {
   "cell_type": "code",
   "execution_count": 20,
   "metadata": {},
   "outputs": [
    {
     "data": {
      "image/png": "[encoded data removed]",
      "text/plain": [
       "<Figure size 432x288 with 1 Axes>"
      ]
     },
     "metadata": {
      "needs_background": "light"
     },
     "output_type": "display_data"
    }
   ],
   "source": [
    "# Southern Hemisphere - Max Temp vs. Latitude \n",
    "southern_lat_values = southern_hemisphere_df['lat']\n",
    "southern_max_temp_values = southern_hemisphere_df['temp_max']\n",
    "plt.scatter(southern_lat_values,southern_max_temp_values)\n",
    "plt.title('Southern Hemisphere - Max Temp vs. Latitude')\n",
    "plt.xlabel('Latitude')\n",
    "plt.ylabel('Max Temp')\n",
    "plt.show()"
   ]
  },
  {
   "cell_type": "code",
   "execution_count": 21,
   "metadata": {},
   "outputs": [
    {
     "name": "stdout",
     "output_type": "stream",
     "text": [
      "4       7.294956\n",
      "6      21.166092\n",
      "7      10.526103\n",
      "9       5.154073\n",
      "10      0.887175\n",
      "         ...    \n",
      "553    26.766086\n",
      "555    27.985199\n",
      "556    26.225909\n",
      "559    27.266616\n",
      "560    17.850697\n",
      "Name: lat, Length: 167, dtype: float64\n"
     ]
    }
   ],
   "source": [
    "# Perform a linear regression on max temp vs. latitude\n",
    "(slope, intercept, rvalue, pvalue, stderr) = stats.linregress(southern_lat_values, southern_max_temp_values)\n",
    "\n",
    "# Get regression values\n",
    "regress_values = southern_lat_values * slope + intercept\n",
    "print(regress_values)"
   ]
  },
  {
   "cell_type": "code",
   "execution_count": 22,
   "metadata": {},
   "outputs": [
    {
     "name": "stdout",
     "output_type": "stream",
     "text": [
      "y = 0.5x +28.04\n"
     ]
    }
   ],
   "source": [
    "# Create line equation string\n",
    "line_eq = \"y = \" + str(round(slope,2)) + \"x +\" + str(round(intercept,2))\n",
    "print(line_eq)"
   ]
  },
  {
   "cell_type": "code",
   "execution_count": 23,
   "metadata": {},
   "outputs": [
    {
     "name": "stdout",
     "output_type": "stream",
     "text": [
      "The r-squared is: 0.6377817310219233\n"
     ]
    },
    {
     "data": {
      "image/png": "[encoded data removed]",
      "text/plain": [
       "<Figure size 432x288 with 1 Axes>"
      ]
     },
     "metadata": {
      "needs_background": "light"
     },
     "output_type": "display_data"
    }
   ],
   "source": [
    "# Southern Hemisphere - Max Temp vs. Latitude Linear Regression\n",
    "# Create Plot\n",
    "plt.scatter(southern_lat_values,southern_max_temp_values)\n",
    "plt.plot(southern_lat_values,regress_values,\"r-\")\n",
    "\n",
    "# Label plot and annotate the line equation\n",
    "plt.xlabel('Latitude')\n",
    "plt.ylabel('Max Temp')\n",
    "plt.title('Southern Hemisphere - Max Temp vs. Latitude Linear Regression')\n",
    "plt.annotate(line_eq,(20,15),fontsize=15,color=\"red\")\n",
    "\n",
    "# Print r square value\n",
    "print(f\"The r-squared is: {rvalue**2}\")\n",
    "\n",
    "# Show plot\n",
    "plt.show()"
   ]
  },
  {
   "cell_type": "markdown",
   "metadata": {},
   "source": [
    "####  Northern Hemisphere - Humidity (%) vs. Latitude Linear Regression"
   ]
  },
  {
   "cell_type": "code",
   "execution_count": 24,
   "metadata": {},
   "outputs": [
    {
     "data": {
      "image/png": "[encoded data removed]",
      "text/plain": [
       "<Figure size 432x288 with 1 Axes>"
      ]
     },
     "metadata": {
      "needs_background": "light"
     },
     "output_type": "display_data"
    }
   ],
   "source": [
    "# Northern Hemisphere - Humidity (%) vs. Latitude\n",
    "northern_lat_values = northern_hemisphere_df['lat']\n",
    "northern_humidity_values = northern_hemisphere_df['humidity']\n",
    "plt.scatter(northern_lat_values,northern_humidity_values)\n",
    "plt.title('Northern Hemisphere - Humidity (%) vs. Latitude')\n",
    "plt.xlabel('Latitude')\n",
    "plt.ylabel('Humidity (%)')\n",
    "plt.show()"
   ]
  },
  {
   "cell_type": "code",
   "execution_count": 25,
   "metadata": {},
   "outputs": [
    {
     "name": "stdout",
     "output_type": "stream",
     "text": [
      "0      66.928507\n",
      "1      72.855965\n",
      "2      71.820511\n",
      "3      70.125911\n",
      "5      73.535747\n",
      "         ...    \n",
      "551    66.201382\n",
      "554    65.422061\n",
      "557    64.903727\n",
      "558    67.018335\n",
      "561    71.235413\n",
      "Name: lat, Length: 395, dtype: float64\n"
     ]
    }
   ],
   "source": [
    "# Perform a linear regression on max temp vs. latitude\n",
    "(slope, intercept, rvalue, pvalue, stderr) = stats.linregress(northern_lat_values, northern_humidity_values)\n",
    "\n",
    "# Get regression values\n",
    "regress_values = northern_lat_values * slope + intercept\n",
    "print(regress_values)"
   ]
  },
  {
   "cell_type": "code",
   "execution_count": 26,
   "metadata": {},
   "outputs": [
    {
     "name": "stdout",
     "output_type": "stream",
     "text": [
      "y = 0.12x +64.81\n"
     ]
    }
   ],
   "source": [
    "# Create line equation string\n",
    "line_eq = \"y = \" + str(round(slope,2)) + \"x +\" + str(round(intercept,2))\n",
    "print(line_eq)"
   ]
  },
  {
   "cell_type": "code",
   "execution_count": 27,
   "metadata": {},
   "outputs": [
    {
     "name": "stdout",
     "output_type": "stream",
     "text": [
      "The r-squared is: 0.013009304962868187\n"
     ]
    },
    {
     "data": {
      "image/png": "[encoded data removed]",
      "text/plain": [
       "<Figure size 432x288 with 1 Axes>"
      ]
     },
     "metadata": {
      "needs_background": "light"
     },
     "output_type": "display_data"
    }
   ],
   "source": [
    "# Northern Hemisphere - Humidity (%) vs. Latitude Linear Regression\n",
    "# Create Plot\n",
    "plt.scatter(northern_lat_values,northern_humidity_values)\n",
    "plt.plot(northern_lat_values,regress_values,\"r-\")\n",
    "\n",
    "# Label plot and annotate the line equation\n",
    "plt.xlabel('Latitude')\n",
    "plt.ylabel('Humidity (%)')\n",
    "plt.title('Northern Hemisphere - Humidity (%) vs. Latitude Linear Regression')\n",
    "plt.annotate(line_eq,(20,15),fontsize=15,color=\"red\")\n",
    "\n",
    "# Print r square value\n",
    "print(f\"The r-squared is: {rvalue**2}\")\n",
    "\n",
    "# Show plot\n",
    "plt.show()"
   ]
  },
  {
   "cell_type": "markdown",
   "metadata": {},
   "source": [
    "####  Southern Hemisphere - Humidity (%) vs. Latitude Linear Regression"
   ]
  },
  {
   "cell_type": "code",
   "execution_count": 28,
   "metadata": {},
   "outputs": [
    {
     "data": {
      "image/png": "[encoded data removed]",
      "text/plain": [
       "<Figure size 432x288 with 1 Axes>"
      ]
     },
     "metadata": {
      "needs_background": "light"
     },
     "output_type": "display_data"
    }
   ],
   "source": [
    "# Southern Hemisphere - Humidity (%) vs. Latitude\n",
    "southern_lat_values = southern_hemisphere_df['lat']\n",
    "southern_humidity_values = southern_hemisphere_df['humidity']\n",
    "plt.scatter(southern_lat_values,southern_humidity_values)\n",
    "plt.title('Southern Hemisphere - Humidity (%) vs. Latitude')\n",
    "plt.xlabel('Latitude')\n",
    "plt.ylabel('Humidity (%)')\n",
    "plt.show()"
   ]
  },
  {
   "cell_type": "code",
   "execution_count": 29,
   "metadata": {},
   "outputs": [
    {
     "name": "stdout",
     "output_type": "stream",
     "text": [
      "4      74.446201\n",
      "6      69.296659\n",
      "7      73.246665\n",
      "9      75.240985\n",
      "10     76.825035\n",
      "         ...    \n",
      "553    67.217708\n",
      "555    66.765122\n",
      "556    67.418244\n",
      "559    67.031890\n",
      "560    70.527471\n",
      "Name: lat, Length: 167, dtype: float64\n"
     ]
    }
   ],
   "source": [
    "# Perform a linear regression on max temp vs. latitude\n",
    "(slope, intercept, rvalue, pvalue, stderr) = stats.linregress(southern_lat_values, southern_humidity_values)\n",
    "\n",
    "# Get regression values\n",
    "regress_values = southern_lat_values * slope + intercept\n",
    "print(regress_values)"
   ]
  },
  {
   "cell_type": "code",
   "execution_count": 30,
   "metadata": {},
   "outputs": [
    {
     "name": "stdout",
     "output_type": "stream",
     "text": [
      "y = -0.18x +66.74\n"
     ]
    }
   ],
   "source": [
    "# Create line equation string\n",
    "line_eq = \"y = \" + str(round(slope,2)) + \"x +\" + str(round(intercept,2))\n",
    "print(line_eq)"
   ]
  },
  {
   "cell_type": "code",
   "execution_count": 31,
   "metadata": {},
   "outputs": [
    {
     "name": "stdout",
     "output_type": "stream",
     "text": [
      "The r-squared is: 0.011696622886680986\n"
     ]
    },
    {
     "data": {
      "image/png": "[encoded data removed]",
      "text/plain": [
       "<Figure size 432x288 with 1 Axes>"
      ]
     },
     "metadata": {
      "needs_background": "light"
     },
     "output_type": "display_data"
    }
   ],
   "source": [
    "# Southern Hemisphere - Humidity (%) vs. Latitude Linear Regression\n",
    "# Create Plot\n",
    "plt.scatter(southern_lat_values,southern_humidity_values)\n",
    "plt.plot(southern_lat_values,regress_values,\"r-\")\n",
    "\n",
    "# Label plot and annotate the line equation\n",
    "plt.xlabel('Latitude')\n",
    "plt.ylabel('Humidity (%)')\n",
    "plt.title('Southern Hemisphere - Humidity (%) vs. Latitude Linear Regression')\n",
    "plt.annotate(line_eq,(20,15),fontsize=15,color=\"red\")\n",
    "\n",
    "# Print r square value\n",
    "print(f\"The r-squared is: {rvalue**2}\")\n",
    "\n",
    "# Show plot\n",
    "plt.show()"
   ]
  },
  {
   "cell_type": "markdown",
   "metadata": {},
   "source": [
    "####  Northern Hemisphere - Cloudiness (%) vs. Latitude Linear Regression"
   ]
  },
  {
   "cell_type": "code",
   "execution_count": 32,
   "metadata": {},
   "outputs": [
    {
     "data": {
      "image/png": "[encoded data removed]",
      "text/plain": [
       "<Figure size 432x288 with 1 Axes>"
      ]
     },
     "metadata": {
      "needs_background": "light"
     },
     "output_type": "display_data"
    }
   ],
   "source": [
    "# Northern Hemisphere - Cloudiness (%) vs. Latitude\n",
    "northern_lat_values = northern_hemisphere_df['lat']\n",
    "northern_cloudiness_values = northern_hemisphere_df['cloudiness']\n",
    "plt.scatter(northern_lat_values,northern_cloudiness_values)\n",
    "plt.title('Northern Hemisphere - Cloudiness (%) vs. Latitude')\n",
    "plt.xlabel('Latitude')\n",
    "plt.ylabel('Cloudiness (%)')\n",
    "plt.show()"
   ]
  },
  {
   "cell_type": "code",
   "execution_count": 33,
   "metadata": {},
   "outputs": [
    {
     "name": "stdout",
     "output_type": "stream",
     "text": [
      "0      59.759284\n",
      "1      53.390097\n",
      "2      54.502715\n",
      "3      56.323601\n",
      "5      52.659655\n",
      "         ...    \n",
      "551    60.540595\n",
      "554    61.377994\n",
      "557    61.934956\n",
      "558    59.662761\n",
      "561    55.131417\n",
      "Name: lat, Length: 395, dtype: float64\n"
     ]
    }
   ],
   "source": [
    "# Perform a linear regression on max temp vs. latitude\n",
    "(slope, intercept, rvalue, pvalue, stderr) = stats.linregress(northern_lat_values, northern_cloudiness_values)\n",
    "\n",
    "# Get regression values\n",
    "regress_values = northern_lat_values * slope + intercept\n",
    "print(regress_values)"
   ]
  },
  {
   "cell_type": "code",
   "execution_count": 34,
   "metadata": {},
   "outputs": [
    {
     "name": "stdout",
     "output_type": "stream",
     "text": [
      "y = -0.13x +62.04\n"
     ]
    }
   ],
   "source": [
    "# Create line equation string\n",
    "line_eq = \"y = \" + str(round(slope,2)) + \"x +\" + str(round(intercept,2))\n",
    "print(line_eq)"
   ]
  },
  {
   "cell_type": "code",
   "execution_count": 35,
   "metadata": {},
   "outputs": [
    {
     "name": "stdout",
     "output_type": "stream",
     "text": [
      "The r-squared is: 0.004493463189954545\n"
     ]
    },
    {
     "data": {
      "image/png": "[encoded data removed]",
      "text/plain": [
       "<Figure size 432x288 with 1 Axes>"
      ]
     },
     "metadata": {
      "needs_background": "light"
     },
     "output_type": "display_data"
    }
   ],
   "source": [
    "# Northern Hemisphere - Cloudiness (%) vs. Latitude Linear Regression\n",
    "# Create Plot\n",
    "plt.scatter(northern_lat_values,northern_cloudiness_values)\n",
    "plt.plot(northern_lat_values,regress_values,\"r-\")\n",
    "\n",
    "# Label plot and annotate the line equation\n",
    "plt.xlabel('Latitude')\n",
    "plt.ylabel('Humidity (%)')\n",
    "plt.title('Northern Hemisphere - Cloudiness (%) vs. Latitude Linear Regression')\n",
    "plt.annotate(line_eq,(20,15),fontsize=15,color=\"red\")\n",
    "\n",
    "# Print r square value\n",
    "print(f\"The r-squared is: {rvalue**2}\")\n",
    "\n",
    "# Show plot\n",
    "plt.show()"
   ]
  },
  {
   "cell_type": "markdown",
   "metadata": {},
   "source": [
    "####  Southern Hemisphere - Cloudiness (%) vs. Latitude Linear Regression"
   ]
  },
  {
   "cell_type": "code",
   "execution_count": 36,
   "metadata": {},
   "outputs": [
    {
     "data": {
      "image/png": "[encoded data removed]",
      "text/plain": [
       "<Figure size 432x288 with 1 Axes>"
      ]
     },
     "metadata": {
      "needs_background": "light"
     },
     "output_type": "display_data"
    }
   ],
   "source": [
    "# Southern Hemisphere - Cloudiness (%) vs. Latitude\n",
    "southern_lat_values = southern_hemisphere_df['lat']\n",
    "southern_cloudiness_values = southern_hemisphere_df['cloudiness']\n",
    "plt.scatter(southern_lat_values,southern_cloudiness_values)\n",
    "plt.title('Southern Hemisphere - Cloudiness (%) vs. Latitude')\n",
    "plt.xlabel('Latitude')\n",
    "plt.ylabel('Cloudiness (%)')\n",
    "plt.show()"
   ]
  },
  {
   "cell_type": "code",
   "execution_count": 37,
   "metadata": {},
   "outputs": [
    {
     "name": "stdout",
     "output_type": "stream",
     "text": [
      "4      32.511546\n",
      "6      39.935373\n",
      "7      34.240855\n",
      "9      31.365747\n",
      "10     29.082104\n",
      "         ...    \n",
      "553    42.932488\n",
      "555    43.584957\n",
      "556    42.643385\n",
      "559    43.200371\n",
      "560    38.160975\n",
      "Name: lat, Length: 167, dtype: float64\n"
     ]
    }
   ],
   "source": [
    "# Perform a linear regression on max temp vs. latitude\n",
    "(slope, intercept, rvalue, pvalue, stderr) = stats.linregress(southern_lat_values, southern_cloudiness_values)\n",
    "\n",
    "# Get regression values\n",
    "regress_values = southern_lat_values * slope + intercept\n",
    "print(regress_values)"
   ]
  },
  {
   "cell_type": "code",
   "execution_count": 38,
   "metadata": {},
   "outputs": [
    {
     "name": "stdout",
     "output_type": "stream",
     "text": [
      "y = 0.27x +43.62\n"
     ]
    }
   ],
   "source": [
    "# Create line equation string\n",
    "line_eq = \"y = \" + str(round(slope,2)) + \"x +\" + str(round(intercept,2))\n",
    "print(line_eq)"
   ]
  },
  {
   "cell_type": "code",
   "execution_count": 39,
   "metadata": {},
   "outputs": [
    {
     "name": "stdout",
     "output_type": "stream",
     "text": [
      "The r-squared is: 0.007978563416718586\n"
     ]
    },
    {
     "data": {
      "image/png": "[encoded data removed]",
      "text/plain": [
       "<Figure size 432x288 with 1 Axes>"
      ]
     },
     "metadata": {
      "needs_background": "light"
     },
     "output_type": "display_data"
    }
   ],
   "source": [
    "# Southern Hemisphere - Cloudiness (%) vs. Latitude Linear Regression\n",
    "# Create Plot\n",
    "plt.scatter(southern_lat_values,southern_cloudiness_values)\n",
    "plt.plot(southern_lat_values,regress_values,\"r-\")\n",
    "\n",
    "# Label plot and annotate the line equation\n",
    "plt.xlabel('Latitude')\n",
    "plt.ylabel('Cloudiness (%)')\n",
    "plt.title('Southern Hemisphere - Cloudiness (%) vs. Latitude Linear Regression')\n",
    "plt.annotate(line_eq,(20,15),fontsize=15,color=\"red\")\n",
    "\n",
    "# Print r square value\n",
    "print(f\"The r-squared is: {rvalue**2}\")\n",
    "\n",
    "# Show plot\n",
    "plt.show()"
   ]
  },
  {
   "cell_type": "markdown",
   "metadata": {},
   "source": [
    "####  Northern Hemisphere - Wind Speed (mph) vs. Latitude Linear Regression"
   ]
  },
  {
   "cell_type": "code",
   "execution_count": 40,
   "metadata": {},
   "outputs": [
    {
     "data": {
      "image/png": "[encoded data removed]",
      "text/plain": [
       "<Figure size 432x288 with 1 Axes>"
      ]
     },
     "metadata": {
      "needs_background": "light"
     },
     "output_type": "display_data"
    }
   ],
   "source": [
    "# Northern Hemisphere - Wind Speed (mph) vs. Latitude\n",
    "northern_lat_values = northern_hemisphere_df['lat']\n",
    "northern_windspeed_values = northern_hemisphere_df['wind speed']\n",
    "plt.scatter(northern_lat_values,northern_windspeed_values)\n",
    "plt.title('Northern Hemisphere - Wind Speed (mph) vs. Latitude')\n",
    "plt.xlabel('Latitude')\n",
    "plt.ylabel('Wind Speed (mph)')\n",
    "plt.show()"
   ]
  },
  {
   "cell_type": "code",
   "execution_count": 41,
   "metadata": {},
   "outputs": [
    {
     "name": "stdout",
     "output_type": "stream",
     "text": [
      "0      3.807678\n",
      "1      3.625322\n",
      "2      3.657177\n",
      "3      3.709311\n",
      "5      3.604409\n",
      "         ...   \n",
      "551    3.830048\n",
      "554    3.854024\n",
      "557    3.869970\n",
      "558    3.804915\n",
      "561    3.675178\n",
      "Name: lat, Length: 395, dtype: float64\n"
     ]
    }
   ],
   "source": [
    "# Perform a linear regression on max temp vs. latitude\n",
    "(slope, intercept, rvalue, pvalue, stderr) = stats.linregress(northern_lat_values, northern_windspeed_values)\n",
    "\n",
    "# Get regression values\n",
    "regress_values = northern_lat_values * slope + intercept\n",
    "print(regress_values)"
   ]
  },
  {
   "cell_type": "code",
   "execution_count": 42,
   "metadata": {},
   "outputs": [
    {
     "name": "stdout",
     "output_type": "stream",
     "text": [
      "y = -0.0x +3.87\n"
     ]
    }
   ],
   "source": [
    "# Create line equation string\n",
    "line_eq = \"y = \" + str(round(slope,2)) + \"x +\" + str(round(intercept,2))\n",
    "print(line_eq)"
   ]
  },
  {
   "cell_type": "code",
   "execution_count": 43,
   "metadata": {},
   "outputs": [
    {
     "name": "stdout",
     "output_type": "stream",
     "text": [
      "The r-squared is: 0.0009510008376666432\n"
     ]
    },
    {
     "data": {
      "image/png": "[encoded data removed]",
      "text/plain": [
       "<Figure size 432x288 with 1 Axes>"
      ]
     },
     "metadata": {
      "needs_background": "light"
     },
     "output_type": "display_data"
    }
   ],
   "source": [
    "# Northern Hemisphere - Wind Speed (mph) vs. Latitude Linear Regression\n",
    "# Create Plot\n",
    "plt.scatter(northern_lat_values,northern_windspeed_values)\n",
    "plt.plot(northern_lat_values,regress_values,\"r-\")\n",
    "\n",
    "# Label plot and annotate the line equation\n",
    "plt.xlabel('Latitude')\n",
    "plt.ylabel('Wind Speed (mph)')\n",
    "plt.title('Northern Hemisphere - Wind Speed (mph) vs. Latitude Linear Regression')\n",
    "plt.annotate(line_eq,(20,15),fontsize=15,color=\"red\")\n",
    "\n",
    "# Print r square value\n",
    "print(f\"The r-squared is: {rvalue**2}\")\n",
    "\n",
    "# Show plot\n",
    "plt.show()"
   ]
  },
  {
   "cell_type": "markdown",
   "metadata": {},
   "source": [
    "####  Southern Hemisphere - Wind Speed (mph) vs. Latitude Linear Regression"
   ]
  },
  {
   "cell_type": "code",
   "execution_count": 44,
   "metadata": {},
   "outputs": [
    {
     "data": {
      "image/png": "[encoded data removed]",
      "text/plain": [
       "<Figure size 432x288 with 1 Axes>"
      ]
     },
     "metadata": {
      "needs_background": "light"
     },
     "output_type": "display_data"
    }
   ],
   "source": [
    "# Southern Hemisphere - Wind Speed (mph) vs. Latitude \n",
    "southern_lat_values = southern_hemisphere_df['lat']\n",
    "southern_windspeed_values = southern_hemisphere_df['wind speed']\n",
    "plt.scatter(southern_lat_values,southern_windspeed_values)\n",
    "plt.title('Southern Hemisphere - Wind Speed (mph) vs. Latitude')\n",
    "plt.xlabel('Latitude')\n",
    "plt.ylabel('Wind Speed (mph)')\n",
    "plt.show()"
   ]
  },
  {
   "cell_type": "code",
   "execution_count": 45,
   "metadata": {},
   "outputs": [
    {
     "name": "stdout",
     "output_type": "stream",
     "text": [
      "4      3.370114\n",
      "6      3.205487\n",
      "7      3.331766\n",
      "9      3.395522\n",
      "10     3.446163\n",
      "         ...   \n",
      "553    3.139025\n",
      "555    3.124556\n",
      "556    3.145436\n",
      "559    3.133084\n",
      "560    3.244835\n",
      "Name: lat, Length: 167, dtype: float64\n"
     ]
    }
   ],
   "source": [
    "# Perform a linear regression on max temp vs. latitude\n",
    "(slope, intercept, rvalue, pvalue, stderr) = stats.linregress(southern_lat_values, southern_windspeed_values)\n",
    "\n",
    "# Get regression values\n",
    "regress_values = southern_lat_values * slope + intercept\n",
    "print(regress_values)"
   ]
  },
  {
   "cell_type": "code",
   "execution_count": 46,
   "metadata": {},
   "outputs": [
    {
     "name": "stdout",
     "output_type": "stream",
     "text": [
      "y = -0.01x +3.12\n"
     ]
    }
   ],
   "source": [
    "# Create line equation string\n",
    "line_eq = \"y = \" + str(round(slope,2)) + \"x +\" + str(round(intercept,2))\n",
    "print(line_eq)"
   ]
  },
  {
   "cell_type": "code",
   "execution_count": 47,
   "metadata": {},
   "outputs": [
    {
     "name": "stdout",
     "output_type": "stream",
     "text": [
      "The r-squared is: 0.0014609914459621477\n"
     ]
    },
    {
     "data": {
      "image/png": "[encoded data removed]",
      "text/plain": [
       "<Figure size 432x288 with 1 Axes>"
      ]
     },
     "metadata": {
      "needs_background": "light"
     },
     "output_type": "display_data"
    }
   ],
   "source": [
    "# Southern Hemisphere - Wind Speed (mph) vs. Latitude Linear Regression\n",
    "# Create Plot\n",
    "plt.scatter(southern_lat_values,southern_windspeed_values)\n",
    "plt.plot(southern_lat_values,regress_values,\"r-\")\n",
    "\n",
    "# Label plot and annotate the line equation\n",
    "plt.xlabel('Latitude')\n",
    "plt.ylabel('Wind Speed (mph)')\n",
    "plt.title('Southern Hemisphere - Wind Speed (mph) vs. Latitude Linear Regression')\n",
    "plt.annotate(line_eq,(20,15),fontsize=15,color=\"red\")\n",
    "\n",
    "# Print r square value\n",
    "print(f\"The r-squared is: {rvalue**2}\")\n",
    "\n",
    "# Show plot\n",
    "plt.show()"
   ]
  }
 ],
 "metadata": {
  "anaconda-cloud": {},
  "kernel_info": {
   "name": "python3"
  },
  "kernelspec": {
   "display_name": "Python 3",
   "language": "python",
   "name": "python3"
  },
  "language_info": {
   "codemirror_mode": {
    "name": "ipython",
    "version": 3
   },
   "file_extension": ".py",
   "mimetype": "text/x-python",
   "name": "python",
   "nbconvert_exporter": "python",
   "pygments_lexer": "ipython3",
   "version": "3.7.4"
  },
  "latex_envs": {
   "LaTeX_envs_menu_present": true,
   "autoclose": false,
   "autocomplete": true,
   "bibliofile": "biblio.bib",
   "cite_by": "apalike",
   "current_citInitial": 1,
   "eqLabelWithNumbers": true,
   "eqNumInitial": 1,
   "hotkeys": {
    "equation": "Ctrl-E",
    "itemize": "Ctrl-I"
   },
   "labels_anchors": false,
   "latex_user_defs": false,
   "report_style_numbering": false,
   "user_envs_cfg": false
  },
  "nteract": {
   "version": "0.12.3"
  }
 },
 "nbformat": 4,
 "nbformat_minor": 2
}
